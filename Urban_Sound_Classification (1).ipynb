{
  "nbformat": 4,
  "nbformat_minor": 0,
  "metadata": {
    "colab": {
      "name": "Urban Sound Classification.ipynb",
      "provenance": [],
      "collapsed_sections": []
    },
    "kernelspec": {
      "name": "python3",
      "display_name": "Python 3"
    },
    "language_info": {
      "name": "python"
    }
  },
  "cells": [
    {
      "cell_type": "markdown",
      "source": [
        "EDA\n",
        "\n",
        "\n",
        "*   Plot the audio file\n",
        "*   Visualise Spectrograms\n",
        "\n"
      ],
      "metadata": {
        "id": "e3oomiplYJsO"
      }
    },
    {
      "cell_type": "code",
      "execution_count": null,
      "metadata": {
        "id": "SmFtNJBTSgXW"
      },
      "outputs": [],
      "source": [
        "import librosa\n",
        "import matplotlib.pyplot as plt\n",
        "import librosa.display\n",
        "import pandas as pd\n",
        "import os\n",
        "import numpy as np\n",
        "from tqdm import tqdm"
      ]
    },
    {
      "cell_type": "code",
      "source": [
        "audio_dataset_path = '/content/drive/MyDrive/Datasets/UrbanSound8K.tar/UrbanSound8K/audio'\n",
        "metadata = pd.read_csv('/content/drive/MyDrive/Datasets/UrbanSound8K.tar/UrbanSound8K/metadata/UrbanSound8K.csv')\n",
        "metadata.head()"
      ],
      "metadata": {
        "colab": {
          "base_uri": "https://localhost:8080/",
          "height": 206
        },
        "id": "6e37EZEYp_9z",
        "outputId": "7688779a-1bf0-4d0e-d852-28690a133d56"
      },
      "execution_count": 2,
      "outputs": [
        {
          "output_type": "execute_result",
          "data": {
            "text/plain": [
              "      slice_file_name    fsID  start        end  salience  fold  classID  \\\n",
              "0    100032-3-0-0.wav  100032    0.0   0.317551         1     5        3   \n",
              "1  100263-2-0-117.wav  100263   58.5  62.500000         1     5        2   \n",
              "2  100263-2-0-121.wav  100263   60.5  64.500000         1     5        2   \n",
              "3  100263-2-0-126.wav  100263   63.0  67.000000         1     5        2   \n",
              "4  100263-2-0-137.wav  100263   68.5  72.500000         1     5        2   \n",
              "\n",
              "              class  \n",
              "0          dog_bark  \n",
              "1  children_playing  \n",
              "2  children_playing  \n",
              "3  children_playing  \n",
              "4  children_playing  "
            ],
            "text/html": [
              "\n",
              "  <div id=\"df-3bb9b0fd-a4e6-4d48-8be8-b0391b164a9c\">\n",
              "    <div class=\"colab-df-container\">\n",
              "      <div>\n",
              "<style scoped>\n",
              "    .dataframe tbody tr th:only-of-type {\n",
              "        vertical-align: middle;\n",
              "    }\n",
              "\n",
              "    .dataframe tbody tr th {\n",
              "        vertical-align: top;\n",
              "    }\n",
              "\n",
              "    .dataframe thead th {\n",
              "        text-align: right;\n",
              "    }\n",
              "</style>\n",
              "<table border=\"1\" class=\"dataframe\">\n",
              "  <thead>\n",
              "    <tr style=\"text-align: right;\">\n",
              "      <th></th>\n",
              "      <th>slice_file_name</th>\n",
              "      <th>fsID</th>\n",
              "      <th>start</th>\n",
              "      <th>end</th>\n",
              "      <th>salience</th>\n",
              "      <th>fold</th>\n",
              "      <th>classID</th>\n",
              "      <th>class</th>\n",
              "    </tr>\n",
              "  </thead>\n",
              "  <tbody>\n",
              "    <tr>\n",
              "      <th>0</th>\n",
              "      <td>100032-3-0-0.wav</td>\n",
              "      <td>100032</td>\n",
              "      <td>0.0</td>\n",
              "      <td>0.317551</td>\n",
              "      <td>1</td>\n",
              "      <td>5</td>\n",
              "      <td>3</td>\n",
              "      <td>dog_bark</td>\n",
              "    </tr>\n",
              "    <tr>\n",
              "      <th>1</th>\n",
              "      <td>100263-2-0-117.wav</td>\n",
              "      <td>100263</td>\n",
              "      <td>58.5</td>\n",
              "      <td>62.500000</td>\n",
              "      <td>1</td>\n",
              "      <td>5</td>\n",
              "      <td>2</td>\n",
              "      <td>children_playing</td>\n",
              "    </tr>\n",
              "    <tr>\n",
              "      <th>2</th>\n",
              "      <td>100263-2-0-121.wav</td>\n",
              "      <td>100263</td>\n",
              "      <td>60.5</td>\n",
              "      <td>64.500000</td>\n",
              "      <td>1</td>\n",
              "      <td>5</td>\n",
              "      <td>2</td>\n",
              "      <td>children_playing</td>\n",
              "    </tr>\n",
              "    <tr>\n",
              "      <th>3</th>\n",
              "      <td>100263-2-0-126.wav</td>\n",
              "      <td>100263</td>\n",
              "      <td>63.0</td>\n",
              "      <td>67.000000</td>\n",
              "      <td>1</td>\n",
              "      <td>5</td>\n",
              "      <td>2</td>\n",
              "      <td>children_playing</td>\n",
              "    </tr>\n",
              "    <tr>\n",
              "      <th>4</th>\n",
              "      <td>100263-2-0-137.wav</td>\n",
              "      <td>100263</td>\n",
              "      <td>68.5</td>\n",
              "      <td>72.500000</td>\n",
              "      <td>1</td>\n",
              "      <td>5</td>\n",
              "      <td>2</td>\n",
              "      <td>children_playing</td>\n",
              "    </tr>\n",
              "  </tbody>\n",
              "</table>\n",
              "</div>\n",
              "      <button class=\"colab-df-convert\" onclick=\"convertToInteractive('df-3bb9b0fd-a4e6-4d48-8be8-b0391b164a9c')\"\n",
              "              title=\"Convert this dataframe to an interactive table.\"\n",
              "              style=\"display:none;\">\n",
              "        \n",
              "  <svg xmlns=\"http://www.w3.org/2000/svg\" height=\"24px\"viewBox=\"0 0 24 24\"\n",
              "       width=\"24px\">\n",
              "    <path d=\"M0 0h24v24H0V0z\" fill=\"none\"/>\n",
              "    <path d=\"M18.56 5.44l.94 2.06.94-2.06 2.06-.94-2.06-.94-.94-2.06-.94 2.06-2.06.94zm-11 1L8.5 8.5l.94-2.06 2.06-.94-2.06-.94L8.5 2.5l-.94 2.06-2.06.94zm10 10l.94 2.06.94-2.06 2.06-.94-2.06-.94-.94-2.06-.94 2.06-2.06.94z\"/><path d=\"M17.41 7.96l-1.37-1.37c-.4-.4-.92-.59-1.43-.59-.52 0-1.04.2-1.43.59L10.3 9.45l-7.72 7.72c-.78.78-.78 2.05 0 2.83L4 21.41c.39.39.9.59 1.41.59.51 0 1.02-.2 1.41-.59l7.78-7.78 2.81-2.81c.8-.78.8-2.07 0-2.86zM5.41 20L4 18.59l7.72-7.72 1.47 1.35L5.41 20z\"/>\n",
              "  </svg>\n",
              "      </button>\n",
              "      \n",
              "  <style>\n",
              "    .colab-df-container {\n",
              "      display:flex;\n",
              "      flex-wrap:wrap;\n",
              "      gap: 12px;\n",
              "    }\n",
              "\n",
              "    .colab-df-convert {\n",
              "      background-color: #E8F0FE;\n",
              "      border: none;\n",
              "      border-radius: 50%;\n",
              "      cursor: pointer;\n",
              "      display: none;\n",
              "      fill: #1967D2;\n",
              "      height: 32px;\n",
              "      padding: 0 0 0 0;\n",
              "      width: 32px;\n",
              "    }\n",
              "\n",
              "    .colab-df-convert:hover {\n",
              "      background-color: #E2EBFA;\n",
              "      box-shadow: 0px 1px 2px rgba(60, 64, 67, 0.3), 0px 1px 3px 1px rgba(60, 64, 67, 0.15);\n",
              "      fill: #174EA6;\n",
              "    }\n",
              "\n",
              "    [theme=dark] .colab-df-convert {\n",
              "      background-color: #3B4455;\n",
              "      fill: #D2E3FC;\n",
              "    }\n",
              "\n",
              "    [theme=dark] .colab-df-convert:hover {\n",
              "      background-color: #434B5C;\n",
              "      box-shadow: 0px 1px 3px 1px rgba(0, 0, 0, 0.15);\n",
              "      filter: drop-shadow(0px 1px 2px rgba(0, 0, 0, 0.3));\n",
              "      fill: #FFFFFF;\n",
              "    }\n",
              "  </style>\n",
              "\n",
              "      <script>\n",
              "        const buttonEl =\n",
              "          document.querySelector('#df-3bb9b0fd-a4e6-4d48-8be8-b0391b164a9c button.colab-df-convert');\n",
              "        buttonEl.style.display =\n",
              "          google.colab.kernel.accessAllowed ? 'block' : 'none';\n",
              "\n",
              "        async function convertToInteractive(key) {\n",
              "          const element = document.querySelector('#df-3bb9b0fd-a4e6-4d48-8be8-b0391b164a9c');\n",
              "          const dataTable =\n",
              "            await google.colab.kernel.invokeFunction('convertToInteractive',\n",
              "                                                     [key], {});\n",
              "          if (!dataTable) return;\n",
              "\n",
              "          const docLinkHtml = 'Like what you see? Visit the ' +\n",
              "            '<a target=\"_blank\" href=https://colab.research.google.com/notebooks/data_table.ipynb>data table notebook</a>'\n",
              "            + ' to learn more about interactive tables.';\n",
              "          element.innerHTML = '';\n",
              "          dataTable['output_type'] = 'display_data';\n",
              "          await google.colab.output.renderOutput(dataTable, element);\n",
              "          const docLink = document.createElement('div');\n",
              "          docLink.innerHTML = docLinkHtml;\n",
              "          element.appendChild(docLink);\n",
              "        }\n",
              "      </script>\n",
              "    </div>\n",
              "  </div>\n",
              "  "
            ]
          },
          "metadata": {},
          "execution_count": 2
        }
      ]
    },
    {
      "cell_type": "code",
      "source": [
        "data, rate = librosa.load('/content/drive/MyDrive/Datasets/Mini Urban Sound8K/Class 2/104327-2-0-15.wav', sr=48000)"
      ],
      "metadata": {
        "id": "HTg4aqgdqrdi"
      },
      "execution_count": 3,
      "outputs": []
    },
    {
      "cell_type": "code",
      "source": [
        "mfccs = librosa.feature.mfcc(data, rate,n_mfcc = 40)"
      ],
      "metadata": {
        "id": "qziA5DXztCdU"
      },
      "execution_count": 4,
      "outputs": []
    },
    {
      "cell_type": "code",
      "source": [
        "mfccs.shape"
      ],
      "metadata": {
        "colab": {
          "base_uri": "https://localhost:8080/"
        },
        "id": "4eN0ifxVtJ2p",
        "outputId": "22f8a39b-2094-4ea7-92f4-0e081f2c3c06"
      },
      "execution_count": 5,
      "outputs": [
        {
          "output_type": "execute_result",
          "data": {
            "text/plain": [
              "(40, 376)"
            ]
          },
          "metadata": {},
          "execution_count": 5
        }
      ]
    },
    {
      "cell_type": "code",
      "source": [
        "melspec = librosa.feature.melspectrogram(data, rate, n_mels = 90)\n"
      ],
      "metadata": {
        "id": "KiOAfdmOtLFa"
      },
      "execution_count": 6,
      "outputs": []
    },
    {
      "cell_type": "code",
      "source": [
        "# melspec.shape"
      ],
      "metadata": {
        "id": "FGVHZyK5ig8Z"
      },
      "execution_count": null,
      "outputs": []
    },
    {
      "cell_type": "code",
      "source": [
        "def feature_extractor(file_name):\n",
        "  audio, sample_rate = librosa.load(file_name, res_type='kaiser_fast')\n",
        "  mfccs_feature = librosa.feature.mfcc(audio, sample_rate, n_mfcc = 40)\n",
        "  mfcc_scaled = np.mean(mfccs_feature.T, axis=0)\n",
        "  return mfcc_scaled\n"
      ],
      "metadata": {
        "id": "gZoxgXcoii9Z"
      },
      "execution_count": null,
      "outputs": []
    },
    {
      "cell_type": "code",
      "source": [
        "extracted_features=[]\n",
        "for index_num, row in tqdm(metadata.iterrows()):\n",
        "  file_name = os.path.join(os.path.abspath(audio_dataset_path),'fold'+str(row['fold'])+'/',str(row['slice_file_name']))\n",
        "  final_class_labels = row['class']\n",
        "  data  =feature_extractor(file_name)\n",
        "  extracted_features.append([data, final_class_labels])"
      ],
      "metadata": {
        "colab": {
          "base_uri": "https://localhost:8080/"
        },
        "id": "ZfoMEHg8kKIk",
        "outputId": "4c7741e9-fba2-4a4f-a699-7259bfd6a376"
      },
      "execution_count": null,
      "outputs": [
        {
          "output_type": "stream",
          "name": "stderr",
          "text": [
            "3555it [44:38,  1.36it/s]/usr/local/lib/python3.7/dist-packages/librosa/core/spectrum.py:224: UserWarning: n_fft=2048 is too small for input signal of length=1323\n",
            "  n_fft, y.shape[-1]\n",
            "8326it [1:42:45,  1.48it/s]/usr/local/lib/python3.7/dist-packages/librosa/core/spectrum.py:224: UserWarning: n_fft=2048 is too small for input signal of length=1103\n",
            "  n_fft, y.shape[-1]\n",
            "8329it [1:42:47,  1.61it/s]/usr/local/lib/python3.7/dist-packages/librosa/core/spectrum.py:224: UserWarning: n_fft=2048 is too small for input signal of length=1523\n",
            "  n_fft, y.shape[-1]\n",
            "8732it [1:47:54,  1.35it/s]\n"
          ]
        }
      ]
    },
    {
      "cell_type": "code",
      "source": [
        ""
      ],
      "metadata": {
        "colab": {
          "base_uri": "https://localhost:8080/",
          "height": 165
        },
        "id": "PbfycpcY9vb-",
        "outputId": "79c5abcf-1d73-49af-c89c-7088797d1484"
      },
      "execution_count": null,
      "outputs": [
        {
          "output_type": "error",
          "ename": "AttributeError",
          "evalue": "ignored",
          "traceback": [
            "\u001b[0;31m---------------------------------------------------------------------------\u001b[0m",
            "\u001b[0;31mAttributeError\u001b[0m                            Traceback (most recent call last)",
            "\u001b[0;32m<ipython-input-24-b814b0bcd545>\u001b[0m in \u001b[0;36m<module>\u001b[0;34m()\u001b[0m\n\u001b[0;32m----> 1\u001b[0;31m \u001b[0mextracted_features\u001b[0m\u001b[0;34m.\u001b[0m\u001b[0mshape\u001b[0m\u001b[0;34m\u001b[0m\u001b[0;34m\u001b[0m\u001b[0m\n\u001b[0m",
            "\u001b[0;31mAttributeError\u001b[0m: 'list' object has no attribute 'shape'"
          ]
        }
      ]
    },
    {
      "cell_type": "code",
      "source": [
        "type(extracted_features)"
      ],
      "metadata": {
        "id": "ZzLN1IvkmD8Y",
        "colab": {
          "base_uri": "https://localhost:8080/"
        },
        "outputId": "b4bafdd2-3312-4d3e-8371-4b6e39db152d"
      },
      "execution_count": null,
      "outputs": [
        {
          "output_type": "execute_result",
          "data": {
            "text/plain": [
              "list"
            ]
          },
          "metadata": {},
          "execution_count": 25
        }
      ]
    },
    {
      "cell_type": "code",
      "source": [
        "extracted_features_np = np.array(extracted_features)"
      ],
      "metadata": {
        "colab": {
          "base_uri": "https://localhost:8080/"
        },
        "id": "0bkehwQ6jW2x",
        "outputId": "97f7a7e6-a244-4a84-fe12-3bb591d4951e"
      },
      "execution_count": null,
      "outputs": [
        {
          "output_type": "stream",
          "name": "stderr",
          "text": [
            "/usr/local/lib/python3.7/dist-packages/ipykernel_launcher.py:1: VisibleDeprecationWarning: Creating an ndarray from ragged nested sequences (which is a list-or-tuple of lists-or-tuples-or ndarrays with different lengths or shapes) is deprecated. If you meant to do this, you must specify 'dtype=object' when creating the ndarray.\n",
            "  \"\"\"Entry point for launching an IPython kernel.\n"
          ]
        }
      ]
    },
    {
      "cell_type": "code",
      "source": [
        "type(extracted_features_np)"
      ],
      "metadata": {
        "colab": {
          "base_uri": "https://localhost:8080/"
        },
        "id": "FtN9QxGsjc1m",
        "outputId": "dd687223-2091-4dd8-a51d-14480406ba5f"
      },
      "execution_count": null,
      "outputs": [
        {
          "output_type": "execute_result",
          "data": {
            "text/plain": [
              "numpy.ndarray"
            ]
          },
          "metadata": {},
          "execution_count": 27
        }
      ]
    },
    {
      "cell_type": "code",
      "source": [
        "extracted_features_np.shape"
      ],
      "metadata": {
        "colab": {
          "base_uri": "https://localhost:8080/"
        },
        "id": "gGC1f1Tf0sFC",
        "outputId": "764df06f-99c5-4af6-8a45-6c3db2b84edf"
      },
      "execution_count": null,
      "outputs": [
        {
          "output_type": "execute_result",
          "data": {
            "text/plain": [
              "(8732, 2)"
            ]
          },
          "metadata": {},
          "execution_count": 28
        }
      ]
    },
    {
      "cell_type": "code",
      "source": [
        "extracted_features_np"
      ],
      "metadata": {
        "colab": {
          "base_uri": "https://localhost:8080/"
        },
        "id": "RZpDIKf00sDv",
        "outputId": "2a981b6b-ad07-4168-b59c-f4184b661cd7"
      },
      "execution_count": null,
      "outputs": [
        {
          "output_type": "execute_result",
          "data": {
            "text/plain": [
              "array([[array([-2.1579301e+02,  7.1666122e+01, -1.3181377e+02, -5.2091331e+01,\n",
              "               -2.2115967e+01, -2.1764179e+01, -1.1183748e+01,  1.8912683e+01,\n",
              "                6.7266383e+00,  1.4556893e+01, -1.1782046e+01,  2.3010368e+00,\n",
              "               -1.7251303e+01,  1.0052423e+01, -6.0094991e+00, -1.3153193e+00,\n",
              "               -1.7693510e+01,  1.1171224e+00, -4.3699460e+00,  7.2629523e+00,\n",
              "               -1.1815971e+01, -7.4952617e+00,  5.4577127e+00, -2.9442444e+00,\n",
              "               -5.8693886e+00, -9.8653622e-02, -3.2121711e+00,  4.6092515e+00,\n",
              "               -5.8293266e+00, -5.3475084e+00,  1.3341196e+00,  7.1307821e+00,\n",
              "               -7.9449929e-02,  1.7109244e+00, -5.6942000e+00, -2.9041717e+00,\n",
              "                3.0366952e+00, -1.6827590e+00, -8.8585824e-01,  3.5438862e-01],\n",
              "              dtype=float32)                                                   ,\n",
              "        'dog_bark'],\n",
              "       [array([-4.2468677e+02,  1.1056227e+02, -5.4148235e+01,  6.2010738e+01,\n",
              "               -7.0951545e-01,  1.8157396e+01,  1.4451565e+00,  1.1161132e+01,\n",
              "               -1.7058903e+00,  1.2360451e+01, -1.1055477e+01,  2.0736568e+01,\n",
              "               -8.9631729e+00,  1.2854286e+01,  6.1885095e-01,  6.2307854e+00,\n",
              "               -2.0106168e+00,  1.0296951e+01, -5.1904492e+00,  5.7075348e+00,\n",
              "               -1.7615210e+00,  7.6622715e+00, -1.3133461e+00,  7.4455166e+00,\n",
              "               -7.6258445e-01,  4.9681205e-01, -3.7199671e+00,  6.4680380e-01,\n",
              "               -5.6421432e+00,  4.4832695e-01, -6.9735932e-01,  1.6416031e+00,\n",
              "               -7.8456962e-01, -4.1275598e-02,  3.9597638e-02, -9.4418697e-02,\n",
              "               -1.6568049e+00,  6.1740863e-01, -6.8497407e-01,  5.7151443e-01],\n",
              "              dtype=float32)                                                   ,\n",
              "        'children_playing'],\n",
              "       [array([-4.59564667e+02,  1.22800354e+02, -4.79247093e+01,  5.32657051e+01,\n",
              "               -1.13986862e+00,  2.47723713e+01,  7.98013639e+00,  9.67425823e+00,\n",
              "               -1.02354395e+00,  1.12044487e+01, -1.18449421e+01,  1.43469524e+01,\n",
              "               -3.51148438e+00,  1.14010563e+01, -3.67504656e-01,  6.43268776e+00,\n",
              "               -6.60325861e+00,  3.28451872e+00, -2.08006835e+00,  1.09049597e+01,\n",
              "                1.38384902e+00,  6.04806185e+00, -8.37760806e-01,  1.80902576e+00,\n",
              "               -2.65425372e+00,  1.58228719e+00, -1.59489727e+00, -6.00140631e-01,\n",
              "               -1.92130005e+00,  1.28997469e+00,  1.24426317e+00, -1.45356560e+00,\n",
              "               -3.94021869e+00, -2.18472099e+00, -1.45620692e+00, -1.69737124e+00,\n",
              "               -1.49213314e+00,  2.22541404e+00,  1.54661798e+00, -8.36315691e-01],\n",
              "              dtype=float32)                                                       ,\n",
              "        'children_playing'],\n",
              "       ...,\n",
              "       [array([-304.61316   ,  112.6199    ,  -47.161945  ,   37.00349   ,\n",
              "                -10.137406  ,   13.432299  ,    2.081506  ,   10.452845  ,\n",
              "                 -7.2536426 ,    5.6002164 ,   -8.370399  ,    1.4087123 ,\n",
              "                -14.665169  ,    9.343889  ,   -4.6448493 ,    8.196614  ,\n",
              "                 -6.4606504 ,    6.18514   ,   -8.177548  ,    2.7384756 ,\n",
              "                 -9.251206  ,    2.190078  ,   -8.0496235 ,    1.9111438 ,\n",
              "                 -4.1656084 ,   -1.6427218 ,   -1.5147414 ,    1.5970153 ,\n",
              "                 -2.6977339 ,   -5.532206  ,   -6.1095705 ,   -0.34051126,\n",
              "                  4.339218  ,    6.3471894 ,    3.4732463 ,    1.8492182 ,\n",
              "                 -3.6828299 ,   -3.0335808 ,    2.710573  ,    7.671895  ],\n",
              "              dtype=float32)                                               ,\n",
              "        'car_horn'],\n",
              "       [array([-3.4471423e+02,  1.2675814e+02, -5.6177170e+01,  3.6070927e+01,\n",
              "               -2.0679035e+01,  8.2325191e+00,  1.2748972e+01,  9.6403379e+00,\n",
              "               -8.9854259e+00,  1.8456631e+01, -1.0402432e+01,  2.0781595e-02,\n",
              "               -6.8320756e+00,  1.1614815e+01, -3.8456070e+00,  1.4265554e+01,\n",
              "               -5.7073623e-01,  5.2696381e+00, -4.7478251e+00,  3.5267186e+00,\n",
              "               -7.8568344e+00,  3.2231395e+00, -1.0249541e+01,  4.2080359e+00,\n",
              "                1.4156557e+00,  2.6771472e+00, -4.3436222e+00,  3.8576965e+00,\n",
              "                1.7309114e+00, -2.3793693e+00, -8.2309618e+00,  2.1699960e+00,\n",
              "                6.1207104e+00,  5.8589807e+00,  1.6549931e+00,  2.8923142e+00,\n",
              "               -4.3835478e+00, -7.8022585e+00, -1.7790736e+00,  5.8354192e+00],\n",
              "              dtype=float32)                                                   ,\n",
              "        'car_horn'],\n",
              "       [array([-3.1593384e+02,  9.5675888e+01, -3.8047768e+01,  4.7500740e+01,\n",
              "               -7.3586011e+00,  1.0455470e+01, -1.8447603e+00,  1.8642925e+01,\n",
              "               -1.1789134e+01,  7.2919984e+00, -7.3276439e+00,  1.0661768e+01,\n",
              "               -1.4730461e+01,  2.3039916e+00, -1.0813205e+01,  5.0486927e+00,\n",
              "               -4.1896582e+00,  1.9373505e+01,  9.9117839e-01,  4.5830026e+00,\n",
              "               -1.0203203e+01,  1.4952719e+00, -8.8648930e+00,  7.1252313e+00,\n",
              "                2.8728654e+00,  1.5023614e+00, -1.3836695e+01,  3.0785382e-01,\n",
              "                4.4619193e+00,  2.4852614e+00, -1.1666129e+01, -3.5005753e+00,\n",
              "                4.0923743e+00,  8.7135029e+00,  1.1072226e+00,  3.0423386e+00,\n",
              "                2.5794456e+00,  5.7758051e-01, -1.1463765e+01, -5.9653535e+00],\n",
              "              dtype=float32)                                                   ,\n",
              "        'car_horn']], dtype=object)"
            ]
          },
          "metadata": {},
          "execution_count": 26
        }
      ]
    },
    {
      "cell_type": "code",
      "source": [
        "np_direc = '/content/drive/MyDrive/Datasets/UrbanSound8K.tar/extracted_features_np.npy'\n",
        "np.save(np_direc,extracted_features_np)"
      ],
      "metadata": {
        "id": "B7Enl5XYjnif"
      },
      "execution_count": null,
      "outputs": []
    },
    {
      "cell_type": "code",
      "source": [
        "extracted_features_pkl = np.load(r\"/content/drive/MyDrive/Datasets/UrbanSound8K.tar/extracted_features_np.npy\",allow_pickle=True)\n",
        "# extracted_features_pkl = np.load('/content/drive/MyDrive/Datasets/UrbanSound8K.tar/extracted_features_np.npy',allow_pickle=True)"
      ],
      "metadata": {
        "id": "Xy6qUk9Yk-DQ"
      },
      "execution_count": null,
      "outputs": []
    },
    {
      "cell_type": "code",
      "source": [
        "extracted_features_pkl.shape\n"
      ],
      "metadata": {
        "colab": {
          "base_uri": "https://localhost:8080/"
        },
        "id": "7IxFUMEGdja3",
        "outputId": "7f735ab3-8dae-4418-cf53-0757d5f5f069"
      },
      "execution_count": null,
      "outputs": [
        {
          "output_type": "execute_result",
          "data": {
            "text/plain": [
              "(8732, 2)"
            ]
          },
          "metadata": {},
          "execution_count": 6
        }
      ]
    },
    {
      "cell_type": "markdown",
      "source": [
        "**next step is:**\n",
        "*   train-test split\n",
        "*   creating the model\n",
        "*   converting the extracted features into definite shape for training\n",
        "* label encoding the labels\n",
        "*   train the model\n",
        "\n",
        "**test new audio file**\n",
        "* load the new audio files\n",
        "* extract mfcc features of new audio \n",
        "* convert that feature vector to a definite representation\n",
        "* predict the class using the converted feature\n",
        "* inverse converting the label encoded answer to a label\n",
        "\n",
        "\n",
        "\n"
      ],
      "metadata": {
        "id": "skW3OwNfmHzF"
      }
    },
    {
      "cell_type": "code",
      "source": [
        "extracted_features_pkl.shape"
      ],
      "metadata": {
        "colab": {
          "base_uri": "https://localhost:8080/"
        },
        "id": "AMfW084glxzI",
        "outputId": "0efb0b05-6a0b-4f97-92e7-1783290fedc9"
      },
      "execution_count": null,
      "outputs": [
        {
          "output_type": "execute_result",
          "data": {
            "text/plain": [
              "(8732, 2)"
            ]
          },
          "metadata": {},
          "execution_count": 6
        }
      ]
    },
    {
      "cell_type": "code",
      "source": [
        "# pkl = np.load(r'/content/drive/MyDrive/Datasets/UrbanSound8K.tar/extracted_features_np.npy', allow_pickle=True)\n",
        "# pkl.shape"
      ],
      "metadata": {
        "id": "WkRElkDC_eDb"
      },
      "execution_count": null,
      "outputs": []
    },
    {
      "cell_type": "code",
      "source": [
        "import pandas as pd"
      ],
      "metadata": {
        "id": "ExC3_wSK11Ry"
      },
      "execution_count": null,
      "outputs": []
    },
    {
      "cell_type": "code",
      "source": [
        "extracted_features_df =pd.DataFrame(extracted_features_pkl,columns=['feature','class'])\n",
        "extracted_features_df.head()"
      ],
      "metadata": {
        "colab": {
          "base_uri": "https://localhost:8080/",
          "height": 206
        },
        "id": "kwhVJMaIjoJ0",
        "outputId": "7f7e8af4-0b35-4973-bd8a-4defeb51b25a"
      },
      "execution_count": null,
      "outputs": [
        {
          "output_type": "execute_result",
          "data": {
            "text/plain": [
              "                                             feature             class\n",
              "0  [-215.79301, 71.66612, -131.81377, -52.09133, ...          dog_bark\n",
              "1  [-424.68677, 110.56227, -54.148235, 62.01074, ...  children_playing\n",
              "2  [-459.56467, 122.800354, -47.92471, 53.265705,...  children_playing\n",
              "3  [-414.55377, 102.896904, -36.66495, 54.18041, ...  children_playing\n",
              "4  [-447.397, 115.0954, -53.809113, 61.60859, 1.6...  children_playing"
            ],
            "text/html": [
              "\n",
              "  <div id=\"df-ffa8fbc2-040e-49d6-b6d2-626ddd17bd65\">\n",
              "    <div class=\"colab-df-container\">\n",
              "      <div>\n",
              "<style scoped>\n",
              "    .dataframe tbody tr th:only-of-type {\n",
              "        vertical-align: middle;\n",
              "    }\n",
              "\n",
              "    .dataframe tbody tr th {\n",
              "        vertical-align: top;\n",
              "    }\n",
              "\n",
              "    .dataframe thead th {\n",
              "        text-align: right;\n",
              "    }\n",
              "</style>\n",
              "<table border=\"1\" class=\"dataframe\">\n",
              "  <thead>\n",
              "    <tr style=\"text-align: right;\">\n",
              "      <th></th>\n",
              "      <th>feature</th>\n",
              "      <th>class</th>\n",
              "    </tr>\n",
              "  </thead>\n",
              "  <tbody>\n",
              "    <tr>\n",
              "      <th>0</th>\n",
              "      <td>[-215.79301, 71.66612, -131.81377, -52.09133, ...</td>\n",
              "      <td>dog_bark</td>\n",
              "    </tr>\n",
              "    <tr>\n",
              "      <th>1</th>\n",
              "      <td>[-424.68677, 110.56227, -54.148235, 62.01074, ...</td>\n",
              "      <td>children_playing</td>\n",
              "    </tr>\n",
              "    <tr>\n",
              "      <th>2</th>\n",
              "      <td>[-459.56467, 122.800354, -47.92471, 53.265705,...</td>\n",
              "      <td>children_playing</td>\n",
              "    </tr>\n",
              "    <tr>\n",
              "      <th>3</th>\n",
              "      <td>[-414.55377, 102.896904, -36.66495, 54.18041, ...</td>\n",
              "      <td>children_playing</td>\n",
              "    </tr>\n",
              "    <tr>\n",
              "      <th>4</th>\n",
              "      <td>[-447.397, 115.0954, -53.809113, 61.60859, 1.6...</td>\n",
              "      <td>children_playing</td>\n",
              "    </tr>\n",
              "  </tbody>\n",
              "</table>\n",
              "</div>\n",
              "      <button class=\"colab-df-convert\" onclick=\"convertToInteractive('df-ffa8fbc2-040e-49d6-b6d2-626ddd17bd65')\"\n",
              "              title=\"Convert this dataframe to an interactive table.\"\n",
              "              style=\"display:none;\">\n",
              "        \n",
              "  <svg xmlns=\"http://www.w3.org/2000/svg\" height=\"24px\"viewBox=\"0 0 24 24\"\n",
              "       width=\"24px\">\n",
              "    <path d=\"M0 0h24v24H0V0z\" fill=\"none\"/>\n",
              "    <path d=\"M18.56 5.44l.94 2.06.94-2.06 2.06-.94-2.06-.94-.94-2.06-.94 2.06-2.06.94zm-11 1L8.5 8.5l.94-2.06 2.06-.94-2.06-.94L8.5 2.5l-.94 2.06-2.06.94zm10 10l.94 2.06.94-2.06 2.06-.94-2.06-.94-.94-2.06-.94 2.06-2.06.94z\"/><path d=\"M17.41 7.96l-1.37-1.37c-.4-.4-.92-.59-1.43-.59-.52 0-1.04.2-1.43.59L10.3 9.45l-7.72 7.72c-.78.78-.78 2.05 0 2.83L4 21.41c.39.39.9.59 1.41.59.51 0 1.02-.2 1.41-.59l7.78-7.78 2.81-2.81c.8-.78.8-2.07 0-2.86zM5.41 20L4 18.59l7.72-7.72 1.47 1.35L5.41 20z\"/>\n",
              "  </svg>\n",
              "      </button>\n",
              "      \n",
              "  <style>\n",
              "    .colab-df-container {\n",
              "      display:flex;\n",
              "      flex-wrap:wrap;\n",
              "      gap: 12px;\n",
              "    }\n",
              "\n",
              "    .colab-df-convert {\n",
              "      background-color: #E8F0FE;\n",
              "      border: none;\n",
              "      border-radius: 50%;\n",
              "      cursor: pointer;\n",
              "      display: none;\n",
              "      fill: #1967D2;\n",
              "      height: 32px;\n",
              "      padding: 0 0 0 0;\n",
              "      width: 32px;\n",
              "    }\n",
              "\n",
              "    .colab-df-convert:hover {\n",
              "      background-color: #E2EBFA;\n",
              "      box-shadow: 0px 1px 2px rgba(60, 64, 67, 0.3), 0px 1px 3px 1px rgba(60, 64, 67, 0.15);\n",
              "      fill: #174EA6;\n",
              "    }\n",
              "\n",
              "    [theme=dark] .colab-df-convert {\n",
              "      background-color: #3B4455;\n",
              "      fill: #D2E3FC;\n",
              "    }\n",
              "\n",
              "    [theme=dark] .colab-df-convert:hover {\n",
              "      background-color: #434B5C;\n",
              "      box-shadow: 0px 1px 3px 1px rgba(0, 0, 0, 0.15);\n",
              "      filter: drop-shadow(0px 1px 2px rgba(0, 0, 0, 0.3));\n",
              "      fill: #FFFFFF;\n",
              "    }\n",
              "  </style>\n",
              "\n",
              "      <script>\n",
              "        const buttonEl =\n",
              "          document.querySelector('#df-ffa8fbc2-040e-49d6-b6d2-626ddd17bd65 button.colab-df-convert');\n",
              "        buttonEl.style.display =\n",
              "          google.colab.kernel.accessAllowed ? 'block' : 'none';\n",
              "\n",
              "        async function convertToInteractive(key) {\n",
              "          const element = document.querySelector('#df-ffa8fbc2-040e-49d6-b6d2-626ddd17bd65');\n",
              "          const dataTable =\n",
              "            await google.colab.kernel.invokeFunction('convertToInteractive',\n",
              "                                                     [key], {});\n",
              "          if (!dataTable) return;\n",
              "\n",
              "          const docLinkHtml = 'Like what you see? Visit the ' +\n",
              "            '<a target=\"_blank\" href=https://colab.research.google.com/notebooks/data_table.ipynb>data table notebook</a>'\n",
              "            + ' to learn more about interactive tables.';\n",
              "          element.innerHTML = '';\n",
              "          dataTable['output_type'] = 'display_data';\n",
              "          await google.colab.output.renderOutput(dataTable, element);\n",
              "          const docLink = document.createElement('div');\n",
              "          docLink.innerHTML = docLinkHtml;\n",
              "          element.appendChild(docLink);\n",
              "        }\n",
              "      </script>\n",
              "    </div>\n",
              "  </div>\n",
              "  "
            ]
          },
          "metadata": {},
          "execution_count": 9
        }
      ]
    },
    {
      "cell_type": "code",
      "source": [
        "X = np.array(extracted_features_df['feature'].tolist())\n",
        "y = np.array(extracted_features_df['class'].tolist())\n"
      ],
      "metadata": {
        "id": "WTqKfFfMkbvE"
      },
      "execution_count": null,
      "outputs": []
    },
    {
      "cell_type": "code",
      "source": [
        "X.shape,y.shape"
      ],
      "metadata": {
        "colab": {
          "base_uri": "https://localhost:8080/"
        },
        "id": "fNVmLnT1hKwy",
        "outputId": "7811ea5e-3f2b-4692-862e-4b92313676f2"
      },
      "execution_count": null,
      "outputs": [
        {
          "output_type": "execute_result",
          "data": {
            "text/plain": [
              "((8732, 40), (8732,))"
            ]
          },
          "metadata": {},
          "execution_count": 11
        }
      ]
    },
    {
      "cell_type": "code",
      "source": [
        "set(y)\n",
        "# list(set(y))"
      ],
      "metadata": {
        "colab": {
          "base_uri": "https://localhost:8080/"
        },
        "id": "mYa5Lqi7hMAq",
        "outputId": "eb45f88c-4bb3-4ac0-c3d1-7f8f6ac5c57b"
      },
      "execution_count": null,
      "outputs": [
        {
          "output_type": "execute_result",
          "data": {
            "text/plain": [
              "{'air_conditioner',\n",
              " 'car_horn',\n",
              " 'children_playing',\n",
              " 'dog_bark',\n",
              " 'drilling',\n",
              " 'engine_idling',\n",
              " 'gun_shot',\n",
              " 'jackhammer',\n",
              " 'siren',\n",
              " 'street_music'}"
            ]
          },
          "metadata": {},
          "execution_count": 48
        }
      ]
    },
    {
      "cell_type": "code",
      "source": [
        "from sklearn.preprocessing import LabelEncoder\n",
        "from tensorflow.keras.utils import to_categorical\n",
        "labelencoder = LabelEncoder()\n",
        "y1 = to_categorical(labelencoder.fit_transform(y))\n",
        "y1.shape"
      ],
      "metadata": {
        "colab": {
          "base_uri": "https://localhost:8080/"
        },
        "id": "WIDyxF_ChVki",
        "outputId": "14853e8d-7d6a-4ee9-f62a-ba1a1c9969c5"
      },
      "execution_count": null,
      "outputs": [
        {
          "output_type": "execute_result",
          "data": {
            "text/plain": [
              "(8732, 10)"
            ]
          },
          "metadata": {},
          "execution_count": 13
        }
      ]
    },
    {
      "cell_type": "code",
      "source": [
        "from sklearn.model_selection import train_test_split\n",
        "X_train,X_test,y_train,y_test=train_test_split(X,y1,test_size=0.25,random_state=0)"
      ],
      "metadata": {
        "id": "s8hO8EoT3TvN"
      },
      "execution_count": null,
      "outputs": []
    },
    {
      "cell_type": "code",
      "source": [
        "y_train.shape,y_test.shape"
      ],
      "metadata": {
        "colab": {
          "base_uri": "https://localhost:8080/"
        },
        "id": "ElQU0pvXcyUx",
        "outputId": "25d280ec-6be3-4b01-ee79-6546f0205c79"
      },
      "execution_count": null,
      "outputs": [
        {
          "output_type": "execute_result",
          "data": {
            "text/plain": [
              "((6549, 10), (2183, 10))"
            ]
          },
          "metadata": {},
          "execution_count": 15
        }
      ]
    },
    {
      "cell_type": "code",
      "source": [
        "from tensorflow.keras.models import Sequential\n",
        "from tensorflow.keras.layers import Dense, Dropout, Activation, Flatten\n",
        "from tensorflow.keras.optimizers import Adam\n",
        "from sklearn import metrics"
      ],
      "metadata": {
        "id": "bb1MJtubdTp8"
      },
      "execution_count": null,
      "outputs": []
    },
    {
      "cell_type": "code",
      "source": [
        "model = Sequential()\n",
        "model.add(Dense(100,input_shape=(40,)))\n",
        "model.add(Activation('relu'))\n",
        "model.add(Dropout(0.5))\n",
        "\n",
        "model.add(Dense(200))\n",
        "model.add(Activation('relu'))\n",
        "model.add(Dropout(0.5))\n",
        "\n",
        "model.add(Dense(100))\n",
        "model.add(Activation('relu'))\n",
        "model.add(Dropout(0.5))\n",
        "\n",
        "model.add(Dense(10))\n",
        "model.add(Activation('softmax'))\n"
      ],
      "metadata": {
        "id": "Sc6Umbu3nR8R"
      },
      "execution_count": null,
      "outputs": []
    },
    {
      "cell_type": "code",
      "source": [
        "model.compile(loss='categorical_crossentropy',metrics=['accuracy'],optimizer='adam')"
      ],
      "metadata": {
        "id": "DjnXVQ8VoNhZ"
      },
      "execution_count": null,
      "outputs": []
    },
    {
      "cell_type": "code",
      "source": [
        "model.summary()"
      ],
      "metadata": {
        "colab": {
          "base_uri": "https://localhost:8080/"
        },
        "id": "uFuKAkZWos1n",
        "outputId": "6b022878-2867-4503-c321-41076c96fff6"
      },
      "execution_count": null,
      "outputs": [
        {
          "output_type": "stream",
          "name": "stdout",
          "text": [
            "Model: \"sequential\"\n",
            "_________________________________________________________________\n",
            " Layer (type)                Output Shape              Param #   \n",
            "=================================================================\n",
            " dense (Dense)               (None, 100)               4100      \n",
            "                                                                 \n",
            " activation (Activation)     (None, 100)               0         \n",
            "                                                                 \n",
            " dropout (Dropout)           (None, 100)               0         \n",
            "                                                                 \n",
            " dense_1 (Dense)             (None, 200)               20200     \n",
            "                                                                 \n",
            " activation_1 (Activation)   (None, 200)               0         \n",
            "                                                                 \n",
            " dropout_1 (Dropout)         (None, 200)               0         \n",
            "                                                                 \n",
            " dense_2 (Dense)             (None, 100)               20100     \n",
            "                                                                 \n",
            " activation_2 (Activation)   (None, 100)               0         \n",
            "                                                                 \n",
            " dropout_2 (Dropout)         (None, 100)               0         \n",
            "                                                                 \n",
            " dense_3 (Dense)             (None, 10)                1010      \n",
            "                                                                 \n",
            " activation_3 (Activation)   (None, 10)                0         \n",
            "                                                                 \n",
            "=================================================================\n",
            "Total params: 45,410\n",
            "Trainable params: 45,410\n",
            "Non-trainable params: 0\n",
            "_________________________________________________________________\n"
          ]
        }
      ]
    },
    {
      "cell_type": "code",
      "source": [
        "num_epochs = 100\n",
        "num_batch_size = 32"
      ],
      "metadata": {
        "id": "9v-rca6jr2bs"
      },
      "execution_count": null,
      "outputs": []
    },
    {
      "cell_type": "code",
      "source": [
        "# from tensorflow.keras.callbacks import ModelCheckpoint\n",
        "# from datetime import datetime\n",
        "\n",
        "# num_epochs = 100\n",
        "# num_batch_size = 32\n",
        "\n",
        "# checkpointer = ModelCheckpoint(filepath='/content/drive/MyDrive/Sound Classification Project/models/audio_classification.hdf5',verbose=1,save_best_only=True)\n",
        "\n",
        "# start = datetime.now()\n",
        "\n",
        "# model.fit(X_train, y_train, batch_size= num_batch_size,epochs=num_epochs, validation_data=(X_test, y_test),callbacks=[checkpointer])\n",
        "\n",
        "# duration = datetime.now()-start\n",
        "# print('Training completed in time:', duration)"
      ],
      "metadata": {
        "id": "ijhAh7rPp_gW",
        "colab": {
          "base_uri": "https://localhost:8080/"
        },
        "outputId": "3acc743b-1ce8-4520-d28d-0c72ee324296"
      },
      "execution_count": null,
      "outputs": [
        {
          "output_type": "stream",
          "name": "stdout",
          "text": [
            "Epoch 1/100\n",
            "195/205 [===========================>..] - ETA: 0s - loss: 0.9451 - accuracy: 0.6942\n",
            "Epoch 1: val_loss improved from inf to 0.77898, saving model to /content/drive/MyDrive/Sound Classification Project/models/audio_classification.hdf5\n",
            "205/205 [==============================] - 2s 8ms/step - loss: 0.9481 - accuracy: 0.6926 - val_loss: 0.7790 - val_accuracy: 0.7513\n",
            "Epoch 2/100\n",
            "191/205 [==========================>...] - ETA: 0s - loss: 0.9488 - accuracy: 0.6816\n",
            "Epoch 2: val_loss improved from 0.77898 to 0.77209, saving model to /content/drive/MyDrive/Sound Classification Project/models/audio_classification.hdf5\n",
            "205/205 [==============================] - 1s 4ms/step - loss: 0.9527 - accuracy: 0.6798 - val_loss: 0.7721 - val_accuracy: 0.7503\n",
            "Epoch 3/100\n",
            "195/205 [===========================>..] - ETA: 0s - loss: 0.9465 - accuracy: 0.6819\n",
            "Epoch 3: val_loss improved from 0.77209 to 0.73629, saving model to /content/drive/MyDrive/Sound Classification Project/models/audio_classification.hdf5\n",
            "205/205 [==============================] - 1s 4ms/step - loss: 0.9480 - accuracy: 0.6809 - val_loss: 0.7363 - val_accuracy: 0.7783\n",
            "Epoch 4/100\n",
            "197/205 [===========================>..] - ETA: 0s - loss: 0.9307 - accuracy: 0.6858\n",
            "Epoch 4: val_loss did not improve from 0.73629\n",
            "205/205 [==============================] - 1s 4ms/step - loss: 0.9322 - accuracy: 0.6856 - val_loss: 0.7572 - val_accuracy: 0.7627\n",
            "Epoch 5/100\n",
            "194/205 [===========================>..] - ETA: 0s - loss: 0.9474 - accuracy: 0.6812\n",
            "Epoch 5: val_loss did not improve from 0.73629\n",
            "205/205 [==============================] - 1s 4ms/step - loss: 0.9464 - accuracy: 0.6818 - val_loss: 0.7587 - val_accuracy: 0.7664\n",
            "Epoch 6/100\n",
            "204/205 [============================>.] - ETA: 0s - loss: 0.9261 - accuracy: 0.6869\n",
            "Epoch 6: val_loss did not improve from 0.73629\n",
            "205/205 [==============================] - 1s 4ms/step - loss: 0.9263 - accuracy: 0.6870 - val_loss: 0.7496 - val_accuracy: 0.7737\n",
            "Epoch 7/100\n",
            "200/205 [============================>.] - ETA: 0s - loss: 0.9483 - accuracy: 0.6780\n",
            "Epoch 7: val_loss did not improve from 0.73629\n",
            "205/205 [==============================] - 1s 4ms/step - loss: 0.9488 - accuracy: 0.6795 - val_loss: 0.7558 - val_accuracy: 0.7609\n",
            "Epoch 8/100\n",
            "203/205 [============================>.] - ETA: 0s - loss: 0.9266 - accuracy: 0.6881\n",
            "Epoch 8: val_loss did not improve from 0.73629\n",
            "205/205 [==============================] - 1s 4ms/step - loss: 0.9286 - accuracy: 0.6873 - val_loss: 0.7417 - val_accuracy: 0.7673\n",
            "Epoch 9/100\n",
            "201/205 [============================>.] - ETA: 0s - loss: 0.9283 - accuracy: 0.6922\n",
            "Epoch 9: val_loss did not improve from 0.73629\n",
            "205/205 [==============================] - 1s 4ms/step - loss: 0.9288 - accuracy: 0.6916 - val_loss: 0.7388 - val_accuracy: 0.7678\n",
            "Epoch 10/100\n",
            "201/205 [============================>.] - ETA: 0s - loss: 0.9309 - accuracy: 0.6953\n",
            "Epoch 10: val_loss did not improve from 0.73629\n",
            "205/205 [==============================] - 1s 4ms/step - loss: 0.9311 - accuracy: 0.6942 - val_loss: 0.7501 - val_accuracy: 0.7714\n",
            "Epoch 11/100\n",
            "199/205 [============================>.] - ETA: 0s - loss: 0.9209 - accuracy: 0.6950\n",
            "Epoch 11: val_loss did not improve from 0.73629\n",
            "205/205 [==============================] - 1s 4ms/step - loss: 0.9191 - accuracy: 0.6948 - val_loss: 0.7548 - val_accuracy: 0.7618\n",
            "Epoch 12/100\n",
            "193/205 [===========================>..] - ETA: 0s - loss: 0.9180 - accuracy: 0.6907\n",
            "Epoch 12: val_loss improved from 0.73629 to 0.73581, saving model to /content/drive/MyDrive/Sound Classification Project/models/audio_classification.hdf5\n",
            "205/205 [==============================] - 1s 5ms/step - loss: 0.9167 - accuracy: 0.6919 - val_loss: 0.7358 - val_accuracy: 0.7705\n",
            "Epoch 13/100\n",
            "203/205 [============================>.] - ETA: 0s - loss: 0.9310 - accuracy: 0.6950\n",
            "Epoch 13: val_loss did not improve from 0.73581\n",
            "205/205 [==============================] - 1s 4ms/step - loss: 0.9297 - accuracy: 0.6952 - val_loss: 0.7467 - val_accuracy: 0.7696\n",
            "Epoch 14/100\n",
            "196/205 [===========================>..] - ETA: 0s - loss: 0.9340 - accuracy: 0.6861\n",
            "Epoch 14: val_loss did not improve from 0.73581\n",
            "205/205 [==============================] - 1s 4ms/step - loss: 0.9362 - accuracy: 0.6853 - val_loss: 0.7418 - val_accuracy: 0.7659\n",
            "Epoch 15/100\n",
            "203/205 [============================>.] - ETA: 0s - loss: 0.9412 - accuracy: 0.6917\n",
            "Epoch 15: val_loss did not improve from 0.73581\n",
            "205/205 [==============================] - 1s 4ms/step - loss: 0.9406 - accuracy: 0.6919 - val_loss: 0.7422 - val_accuracy: 0.7659\n",
            "Epoch 16/100\n",
            "201/205 [============================>.] - ETA: 0s - loss: 0.9152 - accuracy: 0.6915\n",
            "Epoch 16: val_loss did not improve from 0.73581\n",
            "205/205 [==============================] - 1s 4ms/step - loss: 0.9173 - accuracy: 0.6917 - val_loss: 0.7359 - val_accuracy: 0.7682\n",
            "Epoch 17/100\n",
            "200/205 [============================>.] - ETA: 0s - loss: 0.9196 - accuracy: 0.6933\n",
            "Epoch 17: val_loss did not improve from 0.73581\n",
            "205/205 [==============================] - 1s 4ms/step - loss: 0.9187 - accuracy: 0.6943 - val_loss: 0.7379 - val_accuracy: 0.7696\n",
            "Epoch 18/100\n",
            "192/205 [===========================>..] - ETA: 0s - loss: 0.9329 - accuracy: 0.6868\n",
            "Epoch 18: val_loss did not improve from 0.73581\n",
            "205/205 [==============================] - 1s 4ms/step - loss: 0.9309 - accuracy: 0.6874 - val_loss: 0.7440 - val_accuracy: 0.7820\n",
            "Epoch 19/100\n",
            "195/205 [===========================>..] - ETA: 0s - loss: 0.9184 - accuracy: 0.6915\n",
            "Epoch 19: val_loss did not improve from 0.73581\n",
            "205/205 [==============================] - 1s 4ms/step - loss: 0.9148 - accuracy: 0.6932 - val_loss: 0.7464 - val_accuracy: 0.7691\n",
            "Epoch 20/100\n",
            "203/205 [============================>.] - ETA: 0s - loss: 0.9010 - accuracy: 0.6923\n",
            "Epoch 20: val_loss improved from 0.73581 to 0.73282, saving model to /content/drive/MyDrive/Sound Classification Project/models/audio_classification.hdf5\n",
            "205/205 [==============================] - 1s 7ms/step - loss: 0.9029 - accuracy: 0.6923 - val_loss: 0.7328 - val_accuracy: 0.7678\n",
            "Epoch 21/100\n",
            "199/205 [============================>.] - ETA: 0s - loss: 0.9136 - accuracy: 0.6856\n",
            "Epoch 21: val_loss did not improve from 0.73282\n",
            "205/205 [==============================] - 1s 4ms/step - loss: 0.9224 - accuracy: 0.6844 - val_loss: 0.7417 - val_accuracy: 0.7618\n",
            "Epoch 22/100\n",
            "204/205 [============================>.] - ETA: 0s - loss: 0.9090 - accuracy: 0.6921\n",
            "Epoch 22: val_loss did not improve from 0.73282\n",
            "205/205 [==============================] - 1s 4ms/step - loss: 0.9093 - accuracy: 0.6919 - val_loss: 0.7435 - val_accuracy: 0.7613\n",
            "Epoch 23/100\n",
            "198/205 [===========================>..] - ETA: 0s - loss: 0.9208 - accuracy: 0.6948\n",
            "Epoch 23: val_loss improved from 0.73282 to 0.72744, saving model to /content/drive/MyDrive/Sound Classification Project/models/audio_classification.hdf5\n",
            "205/205 [==============================] - 1s 5ms/step - loss: 0.9213 - accuracy: 0.6938 - val_loss: 0.7274 - val_accuracy: 0.7737\n",
            "Epoch 24/100\n",
            "197/205 [===========================>..] - ETA: 0s - loss: 0.9192 - accuracy: 0.6961\n",
            "Epoch 24: val_loss did not improve from 0.72744\n",
            "205/205 [==============================] - 1s 4ms/step - loss: 0.9182 - accuracy: 0.6966 - val_loss: 0.7361 - val_accuracy: 0.7778\n",
            "Epoch 25/100\n",
            "201/205 [============================>.] - ETA: 0s - loss: 0.9164 - accuracy: 0.6975\n",
            "Epoch 25: val_loss did not improve from 0.72744\n",
            "205/205 [==============================] - 1s 4ms/step - loss: 0.9195 - accuracy: 0.6964 - val_loss: 0.7283 - val_accuracy: 0.7755\n",
            "Epoch 26/100\n",
            "198/205 [===========================>..] - ETA: 0s - loss: 0.9181 - accuracy: 0.6903\n",
            "Epoch 26: val_loss did not improve from 0.72744\n",
            "205/205 [==============================] - 1s 4ms/step - loss: 0.9171 - accuracy: 0.6914 - val_loss: 0.7388 - val_accuracy: 0.7742\n",
            "Epoch 27/100\n",
            "203/205 [============================>.] - ETA: 0s - loss: 0.9274 - accuracy: 0.6870\n",
            "Epoch 27: val_loss improved from 0.72744 to 0.72091, saving model to /content/drive/MyDrive/Sound Classification Project/models/audio_classification.hdf5\n",
            "205/205 [==============================] - 1s 4ms/step - loss: 0.9271 - accuracy: 0.6871 - val_loss: 0.7209 - val_accuracy: 0.7838\n",
            "Epoch 28/100\n",
            "200/205 [============================>.] - ETA: 0s - loss: 0.8979 - accuracy: 0.6964\n",
            "Epoch 28: val_loss improved from 0.72091 to 0.72004, saving model to /content/drive/MyDrive/Sound Classification Project/models/audio_classification.hdf5\n",
            "205/205 [==============================] - 1s 4ms/step - loss: 0.8996 - accuracy: 0.6964 - val_loss: 0.7200 - val_accuracy: 0.7783\n",
            "Epoch 29/100\n",
            "203/205 [============================>.] - ETA: 0s - loss: 0.9075 - accuracy: 0.7012\n",
            "Epoch 29: val_loss did not improve from 0.72004\n",
            "205/205 [==============================] - 1s 4ms/step - loss: 0.9085 - accuracy: 0.7003 - val_loss: 0.7447 - val_accuracy: 0.7595\n",
            "Epoch 30/100\n",
            "204/205 [============================>.] - ETA: 0s - loss: 0.9271 - accuracy: 0.6904\n",
            "Epoch 30: val_loss did not improve from 0.72004\n",
            "205/205 [==============================] - 1s 4ms/step - loss: 0.9267 - accuracy: 0.6906 - val_loss: 0.7301 - val_accuracy: 0.7787\n",
            "Epoch 31/100\n",
            "201/205 [============================>.] - ETA: 0s - loss: 0.8937 - accuracy: 0.7049\n",
            "Epoch 31: val_loss improved from 0.72004 to 0.70492, saving model to /content/drive/MyDrive/Sound Classification Project/models/audio_classification.hdf5\n",
            "205/205 [==============================] - 1s 4ms/step - loss: 0.8950 - accuracy: 0.7039 - val_loss: 0.7049 - val_accuracy: 0.7856\n",
            "Epoch 32/100\n",
            "191/205 [==========================>...] - ETA: 0s - loss: 0.8929 - accuracy: 0.6985\n",
            "Epoch 32: val_loss did not improve from 0.70492\n",
            "205/205 [==============================] - 1s 4ms/step - loss: 0.9017 - accuracy: 0.6961 - val_loss: 0.7382 - val_accuracy: 0.7737\n",
            "Epoch 33/100\n",
            "203/205 [============================>.] - ETA: 0s - loss: 0.8840 - accuracy: 0.7058\n",
            "Epoch 33: val_loss did not improve from 0.70492\n",
            "205/205 [==============================] - 1s 4ms/step - loss: 0.8854 - accuracy: 0.7055 - val_loss: 0.7098 - val_accuracy: 0.7925\n",
            "Epoch 34/100\n",
            "201/205 [============================>.] - ETA: 0s - loss: 0.9086 - accuracy: 0.6964\n",
            "Epoch 34: val_loss did not improve from 0.70492\n",
            "205/205 [==============================] - 1s 4ms/step - loss: 0.9087 - accuracy: 0.6972 - val_loss: 0.7363 - val_accuracy: 0.7847\n",
            "Epoch 35/100\n",
            "194/205 [===========================>..] - ETA: 0s - loss: 0.9058 - accuracy: 0.6946\n",
            "Epoch 35: val_loss did not improve from 0.70492\n",
            "205/205 [==============================] - 1s 5ms/step - loss: 0.9092 - accuracy: 0.6934 - val_loss: 0.7317 - val_accuracy: 0.7797\n",
            "Epoch 36/100\n",
            "197/205 [===========================>..] - ETA: 0s - loss: 0.9142 - accuracy: 0.6861\n",
            "Epoch 36: val_loss did not improve from 0.70492\n",
            "205/205 [==============================] - 1s 4ms/step - loss: 0.9102 - accuracy: 0.6880 - val_loss: 0.7157 - val_accuracy: 0.7787\n",
            "Epoch 37/100\n",
            "196/205 [===========================>..] - ETA: 0s - loss: 0.9194 - accuracy: 0.6942\n",
            "Epoch 37: val_loss did not improve from 0.70492\n",
            "205/205 [==============================] - 1s 5ms/step - loss: 0.9141 - accuracy: 0.6948 - val_loss: 0.7194 - val_accuracy: 0.7765\n",
            "Epoch 38/100\n",
            "205/205 [==============================] - ETA: 0s - loss: 0.9104 - accuracy: 0.6905\n",
            "Epoch 38: val_loss did not improve from 0.70492\n",
            "205/205 [==============================] - 1s 4ms/step - loss: 0.9104 - accuracy: 0.6905 - val_loss: 0.7199 - val_accuracy: 0.7824\n",
            "Epoch 39/100\n",
            "204/205 [============================>.] - ETA: 0s - loss: 0.8876 - accuracy: 0.6993\n",
            "Epoch 39: val_loss did not improve from 0.70492\n",
            "205/205 [==============================] - 1s 5ms/step - loss: 0.8871 - accuracy: 0.6992 - val_loss: 0.7256 - val_accuracy: 0.7650\n",
            "Epoch 40/100\n",
            "197/205 [===========================>..] - ETA: 0s - loss: 0.9035 - accuracy: 0.7026\n",
            "Epoch 40: val_loss did not improve from 0.70492\n",
            "205/205 [==============================] - 1s 4ms/step - loss: 0.9043 - accuracy: 0.7025 - val_loss: 0.7107 - val_accuracy: 0.7769\n",
            "Epoch 41/100\n",
            "202/205 [============================>.] - ETA: 0s - loss: 0.8934 - accuracy: 0.6976\n",
            "Epoch 41: val_loss did not improve from 0.70492\n",
            "205/205 [==============================] - 1s 4ms/step - loss: 0.8944 - accuracy: 0.6978 - val_loss: 0.7238 - val_accuracy: 0.7760\n",
            "Epoch 42/100\n",
            "196/205 [===========================>..] - ETA: 0s - loss: 0.8967 - accuracy: 0.6998\n",
            "Epoch 42: val_loss did not improve from 0.70492\n",
            "205/205 [==============================] - 1s 5ms/step - loss: 0.9023 - accuracy: 0.6993 - val_loss: 0.7170 - val_accuracy: 0.7810\n",
            "Epoch 43/100\n",
            "203/205 [============================>.] - ETA: 0s - loss: 0.9221 - accuracy: 0.6892\n",
            "Epoch 43: val_loss did not improve from 0.70492\n",
            "205/205 [==============================] - 1s 4ms/step - loss: 0.9211 - accuracy: 0.6897 - val_loss: 0.7260 - val_accuracy: 0.7792\n",
            "Epoch 44/100\n",
            "192/205 [===========================>..] - ETA: 0s - loss: 0.9034 - accuracy: 0.7012\n",
            "Epoch 44: val_loss did not improve from 0.70492\n",
            "205/205 [==============================] - 1s 4ms/step - loss: 0.9038 - accuracy: 0.7030 - val_loss: 0.7283 - val_accuracy: 0.7746\n",
            "Epoch 45/100\n",
            "192/205 [===========================>..] - ETA: 0s - loss: 0.8963 - accuracy: 0.6960\n",
            "Epoch 45: val_loss did not improve from 0.70492\n",
            "205/205 [==============================] - 1s 4ms/step - loss: 0.8951 - accuracy: 0.6966 - val_loss: 0.7185 - val_accuracy: 0.7874\n",
            "Epoch 46/100\n",
            "199/205 [============================>.] - ETA: 0s - loss: 0.9035 - accuracy: 0.7041\n",
            "Epoch 46: val_loss did not improve from 0.70492\n",
            "205/205 [==============================] - 1s 4ms/step - loss: 0.9021 - accuracy: 0.7030 - val_loss: 0.7129 - val_accuracy: 0.7911\n",
            "Epoch 47/100\n",
            "198/205 [===========================>..] - ETA: 0s - loss: 0.8896 - accuracy: 0.7015\n",
            "Epoch 47: val_loss did not improve from 0.70492\n",
            "205/205 [==============================] - 1s 4ms/step - loss: 0.8896 - accuracy: 0.7010 - val_loss: 0.7453 - val_accuracy: 0.7682\n",
            "Epoch 48/100\n",
            "191/205 [==========================>...] - ETA: 0s - loss: 0.8872 - accuracy: 0.7045\n",
            "Epoch 48: val_loss did not improve from 0.70492\n",
            "205/205 [==============================] - 1s 4ms/step - loss: 0.8924 - accuracy: 0.7032 - val_loss: 0.7246 - val_accuracy: 0.7746\n",
            "Epoch 49/100\n",
            "204/205 [============================>.] - ETA: 0s - loss: 0.9034 - accuracy: 0.7017\n",
            "Epoch 49: val_loss did not improve from 0.70492\n",
            "205/205 [==============================] - 1s 4ms/step - loss: 0.9052 - accuracy: 0.7012 - val_loss: 0.7100 - val_accuracy: 0.7838\n",
            "Epoch 50/100\n",
            "197/205 [===========================>..] - ETA: 0s - loss: 0.8911 - accuracy: 0.7005\n",
            "Epoch 50: val_loss did not improve from 0.70492\n",
            "205/205 [==============================] - 1s 4ms/step - loss: 0.8887 - accuracy: 0.7006 - val_loss: 0.7114 - val_accuracy: 0.7778\n",
            "Epoch 51/100\n",
            "190/205 [==========================>...] - ETA: 0s - loss: 0.8578 - accuracy: 0.7132\n",
            "Epoch 51: val_loss improved from 0.70492 to 0.68709, saving model to /content/drive/MyDrive/Sound Classification Project/models/audio_classification.hdf5\n",
            "205/205 [==============================] - 1s 7ms/step - loss: 0.8589 - accuracy: 0.7120 - val_loss: 0.6871 - val_accuracy: 0.7893\n",
            "Epoch 52/100\n",
            "196/205 [===========================>..] - ETA: 0s - loss: 0.8952 - accuracy: 0.7022\n",
            "Epoch 52: val_loss did not improve from 0.68709\n",
            "205/205 [==============================] - 1s 5ms/step - loss: 0.8930 - accuracy: 0.7030 - val_loss: 0.6916 - val_accuracy: 0.7943\n",
            "Epoch 53/100\n",
            "194/205 [===========================>..] - ETA: 0s - loss: 0.9115 - accuracy: 0.7026\n",
            "Epoch 53: val_loss did not improve from 0.68709\n",
            "205/205 [==============================] - 1s 4ms/step - loss: 0.9096 - accuracy: 0.7016 - val_loss: 0.7168 - val_accuracy: 0.7842\n",
            "Epoch 54/100\n",
            "199/205 [============================>.] - ETA: 0s - loss: 0.8834 - accuracy: 0.7049\n",
            "Epoch 54: val_loss did not improve from 0.68709\n",
            "205/205 [==============================] - 1s 4ms/step - loss: 0.8895 - accuracy: 0.7032 - val_loss: 0.7197 - val_accuracy: 0.7797\n",
            "Epoch 55/100\n",
            "197/205 [===========================>..] - ETA: 0s - loss: 0.9008 - accuracy: 0.6945\n",
            "Epoch 55: val_loss did not improve from 0.68709\n",
            "205/205 [==============================] - 1s 4ms/step - loss: 0.9042 - accuracy: 0.6943 - val_loss: 0.7346 - val_accuracy: 0.7787\n",
            "Epoch 56/100\n",
            "199/205 [============================>.] - ETA: 0s - loss: 0.9105 - accuracy: 0.6971\n",
            "Epoch 56: val_loss did not improve from 0.68709\n",
            "205/205 [==============================] - 1s 4ms/step - loss: 0.9091 - accuracy: 0.6972 - val_loss: 0.7094 - val_accuracy: 0.7820\n",
            "Epoch 57/100\n",
            "198/205 [===========================>..] - ETA: 0s - loss: 0.8972 - accuracy: 0.7052\n",
            "Epoch 57: val_loss did not improve from 0.68709\n",
            "205/205 [==============================] - 1s 4ms/step - loss: 0.8945 - accuracy: 0.7056 - val_loss: 0.7117 - val_accuracy: 0.7870\n",
            "Epoch 58/100\n",
            "200/205 [============================>.] - ETA: 0s - loss: 0.8758 - accuracy: 0.7077\n",
            "Epoch 58: val_loss did not improve from 0.68709\n",
            "205/205 [==============================] - 1s 4ms/step - loss: 0.8740 - accuracy: 0.7085 - val_loss: 0.6910 - val_accuracy: 0.7971\n",
            "Epoch 59/100\n",
            "192/205 [===========================>..] - ETA: 0s - loss: 0.8806 - accuracy: 0.7090\n",
            "Epoch 59: val_loss did not improve from 0.68709\n",
            "205/205 [==============================] - 1s 4ms/step - loss: 0.8760 - accuracy: 0.7106 - val_loss: 0.6934 - val_accuracy: 0.7801\n",
            "Epoch 60/100\n",
            "204/205 [============================>.] - ETA: 0s - loss: 0.8804 - accuracy: 0.7021\n",
            "Epoch 60: val_loss did not improve from 0.68709\n",
            "205/205 [==============================] - 1s 4ms/step - loss: 0.8807 - accuracy: 0.7021 - val_loss: 0.7137 - val_accuracy: 0.7801\n",
            "Epoch 61/100\n",
            "194/205 [===========================>..] - ETA: 0s - loss: 0.8669 - accuracy: 0.7094\n",
            "Epoch 61: val_loss did not improve from 0.68709\n",
            "205/205 [==============================] - 1s 4ms/step - loss: 0.8696 - accuracy: 0.7090 - val_loss: 0.6985 - val_accuracy: 0.7952\n",
            "Epoch 62/100\n",
            "196/205 [===========================>..] - ETA: 0s - loss: 0.8744 - accuracy: 0.7052\n",
            "Epoch 62: val_loss did not improve from 0.68709\n",
            "205/205 [==============================] - 1s 4ms/step - loss: 0.8705 - accuracy: 0.7064 - val_loss: 0.6882 - val_accuracy: 0.7929\n",
            "Epoch 63/100\n",
            "204/205 [============================>.] - ETA: 0s - loss: 0.8704 - accuracy: 0.7132\n",
            "Epoch 63: val_loss did not improve from 0.68709\n",
            "205/205 [==============================] - 1s 4ms/step - loss: 0.8710 - accuracy: 0.7134 - val_loss: 0.6960 - val_accuracy: 0.7847\n",
            "Epoch 64/100\n",
            "202/205 [============================>.] - ETA: 0s - loss: 0.8671 - accuracy: 0.7078\n",
            "Epoch 64: val_loss did not improve from 0.68709\n",
            "205/205 [==============================] - 1s 4ms/step - loss: 0.8646 - accuracy: 0.7088 - val_loss: 0.7101 - val_accuracy: 0.7847\n",
            "Epoch 65/100\n",
            "195/205 [===========================>..] - ETA: 0s - loss: 0.8716 - accuracy: 0.7098\n",
            "Epoch 65: val_loss did not improve from 0.68709\n",
            "205/205 [==============================] - 1s 4ms/step - loss: 0.8724 - accuracy: 0.7094 - val_loss: 0.6974 - val_accuracy: 0.7865\n",
            "Epoch 66/100\n",
            "203/205 [============================>.] - ETA: 0s - loss: 0.8789 - accuracy: 0.7069\n",
            "Epoch 66: val_loss did not improve from 0.68709\n",
            "205/205 [==============================] - 1s 4ms/step - loss: 0.8789 - accuracy: 0.7071 - val_loss: 0.7139 - val_accuracy: 0.7865\n",
            "Epoch 67/100\n",
            "193/205 [===========================>..] - ETA: 0s - loss: 0.8740 - accuracy: 0.7136\n",
            "Epoch 67: val_loss improved from 0.68709 to 0.68332, saving model to /content/drive/MyDrive/Sound Classification Project/models/audio_classification.hdf5\n",
            "205/205 [==============================] - 1s 7ms/step - loss: 0.8774 - accuracy: 0.7122 - val_loss: 0.6833 - val_accuracy: 0.7897\n",
            "Epoch 68/100\n",
            "196/205 [===========================>..] - ETA: 0s - loss: 0.8827 - accuracy: 0.7135\n",
            "Epoch 68: val_loss did not improve from 0.68332\n",
            "205/205 [==============================] - 1s 4ms/step - loss: 0.8833 - accuracy: 0.7131 - val_loss: 0.7151 - val_accuracy: 0.7833\n",
            "Epoch 69/100\n",
            "191/205 [==========================>...] - ETA: 0s - loss: 0.8976 - accuracy: 0.7012\n",
            "Epoch 69: val_loss did not improve from 0.68332\n",
            "205/205 [==============================] - 1s 4ms/step - loss: 0.8932 - accuracy: 0.7013 - val_loss: 0.6911 - val_accuracy: 0.7907\n",
            "Epoch 70/100\n",
            "203/205 [============================>.] - ETA: 0s - loss: 0.8880 - accuracy: 0.7052\n",
            "Epoch 70: val_loss did not improve from 0.68332\n",
            "205/205 [==============================] - 1s 4ms/step - loss: 0.8874 - accuracy: 0.7053 - val_loss: 0.7102 - val_accuracy: 0.7787\n",
            "Epoch 71/100\n",
            "204/205 [============================>.] - ETA: 0s - loss: 0.8937 - accuracy: 0.6967\n",
            "Epoch 71: val_loss did not improve from 0.68332\n",
            "205/205 [==============================] - 1s 4ms/step - loss: 0.8934 - accuracy: 0.6969 - val_loss: 0.6931 - val_accuracy: 0.7902\n",
            "Epoch 72/100\n",
            "191/205 [==========================>...] - ETA: 0s - loss: 0.8903 - accuracy: 0.7047\n",
            "Epoch 72: val_loss did not improve from 0.68332\n",
            "205/205 [==============================] - 1s 4ms/step - loss: 0.8956 - accuracy: 0.7032 - val_loss: 0.6972 - val_accuracy: 0.7911\n",
            "Epoch 73/100\n",
            "203/205 [============================>.] - ETA: 0s - loss: 0.8795 - accuracy: 0.7081\n",
            "Epoch 73: val_loss did not improve from 0.68332\n",
            "205/205 [==============================] - 1s 4ms/step - loss: 0.8801 - accuracy: 0.7080 - val_loss: 0.6981 - val_accuracy: 0.7911\n",
            "Epoch 74/100\n",
            "199/205 [============================>.] - ETA: 0s - loss: 0.8700 - accuracy: 0.7051\n",
            "Epoch 74: val_loss improved from 0.68332 to 0.67820, saving model to /content/drive/MyDrive/Sound Classification Project/models/audio_classification.hdf5\n",
            "205/205 [==============================] - 2s 7ms/step - loss: 0.8711 - accuracy: 0.7044 - val_loss: 0.6782 - val_accuracy: 0.7902\n",
            "Epoch 75/100\n",
            "202/205 [============================>.] - ETA: 0s - loss: 0.8714 - accuracy: 0.7115\n",
            "Epoch 75: val_loss did not improve from 0.67820\n",
            "205/205 [==============================] - 1s 4ms/step - loss: 0.8708 - accuracy: 0.7122 - val_loss: 0.6983 - val_accuracy: 0.7865\n",
            "Epoch 76/100\n",
            "204/205 [============================>.] - ETA: 0s - loss: 0.8842 - accuracy: 0.7079\n",
            "Epoch 76: val_loss did not improve from 0.67820\n",
            "205/205 [==============================] - 1s 4ms/step - loss: 0.8838 - accuracy: 0.7080 - val_loss: 0.6940 - val_accuracy: 0.7902\n",
            "Epoch 77/100\n",
            "200/205 [============================>.] - ETA: 0s - loss: 0.8760 - accuracy: 0.7102\n",
            "Epoch 77: val_loss did not improve from 0.67820\n",
            "205/205 [==============================] - 1s 4ms/step - loss: 0.8785 - accuracy: 0.7096 - val_loss: 0.6956 - val_accuracy: 0.7874\n",
            "Epoch 78/100\n",
            "192/205 [===========================>..] - ETA: 0s - loss: 0.8495 - accuracy: 0.7174\n",
            "Epoch 78: val_loss did not improve from 0.67820\n",
            "205/205 [==============================] - 1s 4ms/step - loss: 0.8538 - accuracy: 0.7157 - val_loss: 0.6973 - val_accuracy: 0.7838\n",
            "Epoch 79/100\n",
            "204/205 [============================>.] - ETA: 0s - loss: 0.8565 - accuracy: 0.7111\n",
            "Epoch 79: val_loss improved from 0.67820 to 0.66764, saving model to /content/drive/MyDrive/Sound Classification Project/models/audio_classification.hdf5\n",
            "205/205 [==============================] - 1s 4ms/step - loss: 0.8554 - accuracy: 0.7113 - val_loss: 0.6676 - val_accuracy: 0.7994\n",
            "Epoch 80/100\n",
            "196/205 [===========================>..] - ETA: 0s - loss: 0.8589 - accuracy: 0.7130\n",
            "Epoch 80: val_loss did not improve from 0.66764\n",
            "205/205 [==============================] - 1s 4ms/step - loss: 0.8642 - accuracy: 0.7116 - val_loss: 0.6889 - val_accuracy: 0.7874\n",
            "Epoch 81/100\n",
            "204/205 [============================>.] - ETA: 0s - loss: 0.8668 - accuracy: 0.7102\n",
            "Epoch 81: val_loss did not improve from 0.66764\n",
            "205/205 [==============================] - 1s 4ms/step - loss: 0.8664 - accuracy: 0.7102 - val_loss: 0.6912 - val_accuracy: 0.7829\n",
            "Epoch 82/100\n",
            "202/205 [============================>.] - ETA: 0s - loss: 0.8655 - accuracy: 0.7090\n",
            "Epoch 82: val_loss did not improve from 0.66764\n",
            "205/205 [==============================] - 1s 4ms/step - loss: 0.8664 - accuracy: 0.7085 - val_loss: 0.6824 - val_accuracy: 0.7874\n",
            "Epoch 83/100\n",
            "200/205 [============================>.] - ETA: 0s - loss: 0.8299 - accuracy: 0.7175\n",
            "Epoch 83: val_loss did not improve from 0.66764\n",
            "205/205 [==============================] - 1s 4ms/step - loss: 0.8302 - accuracy: 0.7178 - val_loss: 0.6783 - val_accuracy: 0.7902\n",
            "Epoch 84/100\n",
            "205/205 [==============================] - ETA: 0s - loss: 0.8961 - accuracy: 0.6986\n",
            "Epoch 84: val_loss did not improve from 0.66764\n",
            "205/205 [==============================] - 1s 4ms/step - loss: 0.8961 - accuracy: 0.6986 - val_loss: 0.6920 - val_accuracy: 0.7888\n",
            "Epoch 85/100\n",
            "197/205 [===========================>..] - ETA: 0s - loss: 0.8827 - accuracy: 0.7080\n",
            "Epoch 85: val_loss did not improve from 0.66764\n",
            "205/205 [==============================] - 1s 4ms/step - loss: 0.8812 - accuracy: 0.7076 - val_loss: 0.7030 - val_accuracy: 0.7907\n",
            "Epoch 86/100\n",
            "194/205 [===========================>..] - ETA: 0s - loss: 0.8840 - accuracy: 0.7044\n",
            "Epoch 86: val_loss did not improve from 0.66764\n",
            "205/205 [==============================] - 1s 4ms/step - loss: 0.8826 - accuracy: 0.7048 - val_loss: 0.6876 - val_accuracy: 0.7989\n",
            "Epoch 87/100\n",
            "195/205 [===========================>..] - ETA: 0s - loss: 0.8640 - accuracy: 0.7204\n",
            "Epoch 87: val_loss did not improve from 0.66764\n",
            "205/205 [==============================] - 1s 4ms/step - loss: 0.8576 - accuracy: 0.7230 - val_loss: 0.6955 - val_accuracy: 0.7962\n",
            "Epoch 88/100\n",
            "201/205 [============================>.] - ETA: 0s - loss: 0.8836 - accuracy: 0.7071\n",
            "Epoch 88: val_loss did not improve from 0.66764\n",
            "205/205 [==============================] - 1s 4ms/step - loss: 0.8843 - accuracy: 0.7073 - val_loss: 0.6884 - val_accuracy: 0.7952\n",
            "Epoch 89/100\n",
            "201/205 [============================>.] - ETA: 0s - loss: 0.8521 - accuracy: 0.7163\n",
            "Epoch 89: val_loss did not improve from 0.66764\n",
            "205/205 [==============================] - 1s 4ms/step - loss: 0.8528 - accuracy: 0.7161 - val_loss: 0.6759 - val_accuracy: 0.7865\n",
            "Epoch 90/100\n",
            "200/205 [============================>.] - ETA: 0s - loss: 0.8472 - accuracy: 0.7127\n",
            "Epoch 90: val_loss did not improve from 0.66764\n",
            "205/205 [==============================] - 1s 4ms/step - loss: 0.8437 - accuracy: 0.7137 - val_loss: 0.6715 - val_accuracy: 0.7984\n",
            "Epoch 91/100\n",
            "204/205 [============================>.] - ETA: 0s - loss: 0.8570 - accuracy: 0.7131\n",
            "Epoch 91: val_loss did not improve from 0.66764\n",
            "205/205 [==============================] - 1s 4ms/step - loss: 0.8556 - accuracy: 0.7137 - val_loss: 0.6889 - val_accuracy: 0.7939\n",
            "Epoch 92/100\n",
            "201/205 [============================>.] - ETA: 0s - loss: 0.8893 - accuracy: 0.6993\n",
            "Epoch 92: val_loss did not improve from 0.66764\n",
            "205/205 [==============================] - 1s 4ms/step - loss: 0.8882 - accuracy: 0.6998 - val_loss: 0.7161 - val_accuracy: 0.7787\n",
            "Epoch 93/100\n",
            "197/205 [===========================>..] - ETA: 0s - loss: 0.8811 - accuracy: 0.7118\n",
            "Epoch 93: val_loss did not improve from 0.66764\n",
            "205/205 [==============================] - 1s 4ms/step - loss: 0.8789 - accuracy: 0.7123 - val_loss: 0.6915 - val_accuracy: 0.7907\n",
            "Epoch 94/100\n",
            "197/205 [===========================>..] - ETA: 0s - loss: 0.8510 - accuracy: 0.7202\n",
            "Epoch 94: val_loss improved from 0.66764 to 0.66276, saving model to /content/drive/MyDrive/Sound Classification Project/models/audio_classification.hdf5\n",
            "205/205 [==============================] - 2s 8ms/step - loss: 0.8435 - accuracy: 0.7221 - val_loss: 0.6628 - val_accuracy: 0.7957\n",
            "Epoch 95/100\n",
            "198/205 [===========================>..] - ETA: 0s - loss: 0.8379 - accuracy: 0.7224\n",
            "Epoch 95: val_loss did not improve from 0.66276\n",
            "205/205 [==============================] - 1s 4ms/step - loss: 0.8354 - accuracy: 0.7229 - val_loss: 0.6931 - val_accuracy: 0.7994\n",
            "Epoch 96/100\n",
            "201/205 [============================>.] - ETA: 0s - loss: 0.8633 - accuracy: 0.7074\n",
            "Epoch 96: val_loss did not improve from 0.66276\n",
            "205/205 [==============================] - 1s 4ms/step - loss: 0.8639 - accuracy: 0.7071 - val_loss: 0.6752 - val_accuracy: 0.8030\n",
            "Epoch 97/100\n",
            "196/205 [===========================>..] - ETA: 0s - loss: 0.8547 - accuracy: 0.7101\n",
            "Epoch 97: val_loss did not improve from 0.66276\n",
            "205/205 [==============================] - 1s 4ms/step - loss: 0.8543 - accuracy: 0.7106 - val_loss: 0.6675 - val_accuracy: 0.7994\n",
            "Epoch 98/100\n",
            "203/205 [============================>.] - ETA: 0s - loss: 0.8497 - accuracy: 0.7172\n",
            "Epoch 98: val_loss did not improve from 0.66276\n",
            "205/205 [==============================] - 1s 4ms/step - loss: 0.8497 - accuracy: 0.7166 - val_loss: 0.6868 - val_accuracy: 0.8003\n",
            "Epoch 99/100\n",
            "200/205 [============================>.] - ETA: 0s - loss: 0.8622 - accuracy: 0.7169\n",
            "Epoch 99: val_loss did not improve from 0.66276\n",
            "205/205 [==============================] - 1s 4ms/step - loss: 0.8599 - accuracy: 0.7168 - val_loss: 0.6853 - val_accuracy: 0.7920\n",
            "Epoch 100/100\n",
            "202/205 [============================>.] - ETA: 0s - loss: 0.8401 - accuracy: 0.7136\n",
            "Epoch 100: val_loss did not improve from 0.66276\n",
            "205/205 [==============================] - 1s 4ms/step - loss: 0.8435 - accuracy: 0.7128 - val_loss: 0.6640 - val_accuracy: 0.7994\n",
            "Training completed in time: 0:01:32.913713\n"
          ]
        }
      ]
    },
    {
      "cell_type": "code",
      "source": [
        "import tensorflow as tf"
      ],
      "metadata": {
        "id": "zqM6SgLgrDTm"
      },
      "execution_count": null,
      "outputs": []
    },
    {
      "cell_type": "code",
      "source": [
        "from tensorflow.keras.callbacks import ModelCheckpoint\n",
        "checkpointer = ModelCheckpoint(filepath='/content/drive/MyDrive/Sound Classification Project/models/audio_classification.hdf5',verbose=1,save_best_only=True)\n"
      ],
      "metadata": {
        "id": "7h2SO3ZBrDRn"
      },
      "execution_count": null,
      "outputs": []
    },
    {
      "cell_type": "code",
      "source": [
        "\n",
        "reconstructed_model = tf.keras.models.load_model(\"/content/drive/MyDrive/Sound Classification Project/models/audio_classification.hdf5\")\n"
      ],
      "metadata": {
        "id": "1wJTWgWW1AzK"
      },
      "execution_count": null,
      "outputs": []
    },
    {
      "cell_type": "code",
      "source": [
        "reconstructed_model.summary()"
      ],
      "metadata": {
        "colab": {
          "base_uri": "https://localhost:8080/"
        },
        "id": "qKSQ9jCnByHJ",
        "outputId": "b7feb2ca-c512-45ea-c159-51979f7cf7c2"
      },
      "execution_count": null,
      "outputs": [
        {
          "output_type": "stream",
          "name": "stdout",
          "text": [
            "Model: \"sequential_2\"\n",
            "_________________________________________________________________\n",
            " Layer (type)                Output Shape              Param #   \n",
            "=================================================================\n",
            " dense (Dense)               (None, 100)               4100      \n",
            "                                                                 \n",
            " activation (Activation)     (None, 100)               0         \n",
            "                                                                 \n",
            " dropout (Dropout)           (None, 100)               0         \n",
            "                                                                 \n",
            " dense_1 (Dense)             (None, 200)               20200     \n",
            "                                                                 \n",
            " activation_1 (Activation)   (None, 200)               0         \n",
            "                                                                 \n",
            " dropout_1 (Dropout)         (None, 200)               0         \n",
            "                                                                 \n",
            " dense_2 (Dense)             (None, 100)               20100     \n",
            "                                                                 \n",
            " activation_2 (Activation)   (None, 100)               0         \n",
            "                                                                 \n",
            " dropout_2 (Dropout)         (None, 100)               0         \n",
            "                                                                 \n",
            " dense_3 (Dense)             (None, 10)                1010      \n",
            "                                                                 \n",
            " activation_3 (Activation)   (None, 10)                0         \n",
            "                                                                 \n",
            "=================================================================\n",
            "Total params: 45,410\n",
            "Trainable params: 45,410\n",
            "Non-trainable params: 0\n",
            "_________________________________________________________________\n"
          ]
        }
      ]
    },
    {
      "cell_type": "code",
      "source": [
        "reconstructed_model.get_config()"
      ],
      "metadata": {
        "colab": {
          "base_uri": "https://localhost:8080/"
        },
        "id": "d4tLN_jhk0jZ",
        "outputId": "81cf04e0-7050-4d21-d0f5-dc909c2fd281"
      },
      "execution_count": null,
      "outputs": [
        {
          "output_type": "execute_result",
          "data": {
            "text/plain": [
              "{'layers': [{'class_name': 'InputLayer',\n",
              "   'config': {'batch_input_shape': (None, 40),\n",
              "    'dtype': 'float32',\n",
              "    'name': 'dense_input',\n",
              "    'ragged': False,\n",
              "    'sparse': False}},\n",
              "  {'class_name': 'Dense',\n",
              "   'config': {'activation': 'linear',\n",
              "    'activity_regularizer': None,\n",
              "    'batch_input_shape': (None, 40),\n",
              "    'bias_constraint': None,\n",
              "    'bias_initializer': {'class_name': 'Zeros', 'config': {}},\n",
              "    'bias_regularizer': None,\n",
              "    'dtype': 'float32',\n",
              "    'kernel_constraint': None,\n",
              "    'kernel_initializer': {'class_name': 'GlorotUniform',\n",
              "     'config': {'seed': None}},\n",
              "    'kernel_regularizer': None,\n",
              "    'name': 'dense',\n",
              "    'trainable': True,\n",
              "    'units': 100,\n",
              "    'use_bias': True}},\n",
              "  {'class_name': 'Activation',\n",
              "   'config': {'activation': 'relu',\n",
              "    'dtype': 'float32',\n",
              "    'name': 'activation',\n",
              "    'trainable': True}},\n",
              "  {'class_name': 'Dropout',\n",
              "   'config': {'dtype': 'float32',\n",
              "    'name': 'dropout',\n",
              "    'noise_shape': None,\n",
              "    'rate': 0.5,\n",
              "    'seed': None,\n",
              "    'trainable': True}},\n",
              "  {'class_name': 'Dense',\n",
              "   'config': {'activation': 'linear',\n",
              "    'activity_regularizer': None,\n",
              "    'bias_constraint': None,\n",
              "    'bias_initializer': {'class_name': 'Zeros', 'config': {}},\n",
              "    'bias_regularizer': None,\n",
              "    'dtype': 'float32',\n",
              "    'kernel_constraint': None,\n",
              "    'kernel_initializer': {'class_name': 'GlorotUniform',\n",
              "     'config': {'seed': None}},\n",
              "    'kernel_regularizer': None,\n",
              "    'name': 'dense_1',\n",
              "    'trainable': True,\n",
              "    'units': 200,\n",
              "    'use_bias': True}},\n",
              "  {'class_name': 'Activation',\n",
              "   'config': {'activation': 'relu',\n",
              "    'dtype': 'float32',\n",
              "    'name': 'activation_1',\n",
              "    'trainable': True}},\n",
              "  {'class_name': 'Dropout',\n",
              "   'config': {'dtype': 'float32',\n",
              "    'name': 'dropout_1',\n",
              "    'noise_shape': None,\n",
              "    'rate': 0.5,\n",
              "    'seed': None,\n",
              "    'trainable': True}},\n",
              "  {'class_name': 'Dense',\n",
              "   'config': {'activation': 'linear',\n",
              "    'activity_regularizer': None,\n",
              "    'bias_constraint': None,\n",
              "    'bias_initializer': {'class_name': 'Zeros', 'config': {}},\n",
              "    'bias_regularizer': None,\n",
              "    'dtype': 'float32',\n",
              "    'kernel_constraint': None,\n",
              "    'kernel_initializer': {'class_name': 'GlorotUniform',\n",
              "     'config': {'seed': None}},\n",
              "    'kernel_regularizer': None,\n",
              "    'name': 'dense_2',\n",
              "    'trainable': True,\n",
              "    'units': 100,\n",
              "    'use_bias': True}},\n",
              "  {'class_name': 'Activation',\n",
              "   'config': {'activation': 'relu',\n",
              "    'dtype': 'float32',\n",
              "    'name': 'activation_2',\n",
              "    'trainable': True}},\n",
              "  {'class_name': 'Dropout',\n",
              "   'config': {'dtype': 'float32',\n",
              "    'name': 'dropout_2',\n",
              "    'noise_shape': None,\n",
              "    'rate': 0.5,\n",
              "    'seed': None,\n",
              "    'trainable': True}},\n",
              "  {'class_name': 'Dense',\n",
              "   'config': {'activation': 'linear',\n",
              "    'activity_regularizer': None,\n",
              "    'bias_constraint': None,\n",
              "    'bias_initializer': {'class_name': 'Zeros', 'config': {}},\n",
              "    'bias_regularizer': None,\n",
              "    'dtype': 'float32',\n",
              "    'kernel_constraint': None,\n",
              "    'kernel_initializer': {'class_name': 'GlorotUniform',\n",
              "     'config': {'seed': None}},\n",
              "    'kernel_regularizer': None,\n",
              "    'name': 'dense_3',\n",
              "    'trainable': True,\n",
              "    'units': 10,\n",
              "    'use_bias': True}},\n",
              "  {'class_name': 'Activation',\n",
              "   'config': {'activation': 'softmax',\n",
              "    'dtype': 'float32',\n",
              "    'name': 'activation_3',\n",
              "    'trainable': True}}],\n",
              " 'name': 'sequential_2'}"
            ]
          },
          "metadata": {},
          "execution_count": 22
        }
      ]
    },
    {
      "cell_type": "code",
      "source": [
        "reconstructed_model.fit(X_train, y_train, batch_size= num_batch_size,epochs=num_epochs, validation_data=(X_test, y_test),callbacks=[checkpointer])\n"
      ],
      "metadata": {
        "colab": {
          "base_uri": "https://localhost:8080/"
        },
        "id": "xa8aYosmrOCO",
        "outputId": "b5d364a6-0d71-4190-f184-a7efcb81fa1e"
      },
      "execution_count": null,
      "outputs": [
        {
          "output_type": "stream",
          "name": "stdout",
          "text": [
            "Epoch 1/100\n",
            "205/205 [==============================] - ETA: 0s - loss: 0.7976 - accuracy: 0.7270\n",
            "Epoch 1: val_loss improved from inf to 0.61622, saving model to /content/drive/MyDrive/Sound Classification Project/models/audio_classification.hdf5\n",
            "205/205 [==============================] - 1s 6ms/step - loss: 0.7976 - accuracy: 0.7270 - val_loss: 0.6162 - val_accuracy: 0.8113\n",
            "Epoch 2/100\n",
            "205/205 [==============================] - ETA: 0s - loss: 0.7953 - accuracy: 0.7395\n",
            "Epoch 2: val_loss improved from 0.61622 to 0.60595, saving model to /content/drive/MyDrive/Sound Classification Project/models/audio_classification.hdf5\n",
            "205/205 [==============================] - 2s 8ms/step - loss: 0.7953 - accuracy: 0.7395 - val_loss: 0.6060 - val_accuracy: 0.8122\n",
            "Epoch 3/100\n",
            "198/205 [===========================>..] - ETA: 0s - loss: 0.7919 - accuracy: 0.7383\n",
            "Epoch 3: val_loss did not improve from 0.60595\n",
            "205/205 [==============================] - 1s 7ms/step - loss: 0.7909 - accuracy: 0.7387 - val_loss: 0.6118 - val_accuracy: 0.8154\n",
            "Epoch 4/100\n",
            "201/205 [============================>.] - ETA: 0s - loss: 0.8146 - accuracy: 0.7262\n",
            "Epoch 4: val_loss did not improve from 0.60595\n",
            "205/205 [==============================] - 1s 6ms/step - loss: 0.8137 - accuracy: 0.7264 - val_loss: 0.6171 - val_accuracy: 0.8030\n",
            "Epoch 5/100\n",
            "201/205 [============================>.] - ETA: 0s - loss: 0.7881 - accuracy: 0.7331\n",
            "Epoch 5: val_loss did not improve from 0.60595\n",
            "205/205 [==============================] - 1s 6ms/step - loss: 0.7881 - accuracy: 0.7329 - val_loss: 0.6309 - val_accuracy: 0.7984\n",
            "Epoch 6/100\n",
            "203/205 [============================>.] - ETA: 0s - loss: 0.7802 - accuracy: 0.7334\n",
            "Epoch 6: val_loss did not improve from 0.60595\n",
            "205/205 [==============================] - 1s 6ms/step - loss: 0.7820 - accuracy: 0.7329 - val_loss: 0.6203 - val_accuracy: 0.8058\n",
            "Epoch 7/100\n",
            "200/205 [============================>.] - ETA: 0s - loss: 0.8095 - accuracy: 0.7348\n",
            "Epoch 7: val_loss did not improve from 0.60595\n",
            "205/205 [==============================] - 1s 6ms/step - loss: 0.8092 - accuracy: 0.7348 - val_loss: 0.6273 - val_accuracy: 0.8007\n",
            "Epoch 8/100\n",
            "200/205 [============================>.] - ETA: 0s - loss: 0.8109 - accuracy: 0.7297\n",
            "Epoch 8: val_loss did not improve from 0.60595\n",
            "205/205 [==============================] - 1s 7ms/step - loss: 0.8130 - accuracy: 0.7294 - val_loss: 0.6142 - val_accuracy: 0.8049\n",
            "Epoch 9/100\n",
            "197/205 [===========================>..] - ETA: 0s - loss: 0.7794 - accuracy: 0.7408\n",
            "Epoch 9: val_loss improved from 0.60595 to 0.60106, saving model to /content/drive/MyDrive/Sound Classification Project/models/audio_classification.hdf5\n",
            "205/205 [==============================] - 1s 7ms/step - loss: 0.7806 - accuracy: 0.7412 - val_loss: 0.6011 - val_accuracy: 0.8126\n",
            "Epoch 10/100\n",
            "203/205 [============================>.] - ETA: 0s - loss: 0.7839 - accuracy: 0.7392\n",
            "Epoch 10: val_loss did not improve from 0.60106\n",
            "205/205 [==============================] - 1s 6ms/step - loss: 0.7840 - accuracy: 0.7393 - val_loss: 0.6125 - val_accuracy: 0.8117\n",
            "Epoch 11/100\n",
            "200/205 [============================>.] - ETA: 0s - loss: 0.7963 - accuracy: 0.7395\n",
            "Epoch 11: val_loss did not improve from 0.60106\n",
            "205/205 [==============================] - 1s 7ms/step - loss: 0.8009 - accuracy: 0.7389 - val_loss: 0.6323 - val_accuracy: 0.8026\n",
            "Epoch 12/100\n",
            "202/205 [============================>.] - ETA: 0s - loss: 0.7932 - accuracy: 0.7389\n",
            "Epoch 12: val_loss did not improve from 0.60106\n",
            "205/205 [==============================] - 2s 7ms/step - loss: 0.7906 - accuracy: 0.7398 - val_loss: 0.6209 - val_accuracy: 0.8081\n",
            "Epoch 13/100\n",
            "200/205 [============================>.] - ETA: 0s - loss: 0.8019 - accuracy: 0.7375\n",
            "Epoch 13: val_loss did not improve from 0.60106\n",
            "205/205 [==============================] - 1s 6ms/step - loss: 0.8026 - accuracy: 0.7374 - val_loss: 0.6157 - val_accuracy: 0.8094\n",
            "Epoch 14/100\n",
            "201/205 [============================>.] - ETA: 0s - loss: 0.8084 - accuracy: 0.7324\n",
            "Epoch 14: val_loss did not improve from 0.60106\n",
            "205/205 [==============================] - 2s 8ms/step - loss: 0.8066 - accuracy: 0.7332 - val_loss: 0.6213 - val_accuracy: 0.8094\n",
            "Epoch 15/100\n",
            "200/205 [============================>.] - ETA: 0s - loss: 0.7821 - accuracy: 0.7387\n",
            "Epoch 15: val_loss did not improve from 0.60106\n",
            "205/205 [==============================] - 2s 10ms/step - loss: 0.7845 - accuracy: 0.7378 - val_loss: 0.6373 - val_accuracy: 0.8012\n",
            "Epoch 16/100\n",
            "204/205 [============================>.] - ETA: 0s - loss: 0.7820 - accuracy: 0.7384\n",
            "Epoch 16: val_loss did not improve from 0.60106\n",
            "205/205 [==============================] - 2s 8ms/step - loss: 0.7817 - accuracy: 0.7384 - val_loss: 0.6161 - val_accuracy: 0.8094\n",
            "Epoch 17/100\n",
            "198/205 [===========================>..] - ETA: 0s - loss: 0.7925 - accuracy: 0.7377\n",
            "Epoch 17: val_loss did not improve from 0.60106\n",
            "205/205 [==============================] - 1s 7ms/step - loss: 0.7935 - accuracy: 0.7390 - val_loss: 0.6158 - val_accuracy: 0.8085\n",
            "Epoch 18/100\n",
            "199/205 [============================>.] - ETA: 0s - loss: 0.8013 - accuracy: 0.7396\n",
            "Epoch 18: val_loss did not improve from 0.60106\n",
            "205/205 [==============================] - 2s 8ms/step - loss: 0.8007 - accuracy: 0.7398 - val_loss: 0.6170 - val_accuracy: 0.8140\n",
            "Epoch 19/100\n",
            "201/205 [============================>.] - ETA: 0s - loss: 0.8043 - accuracy: 0.7379\n",
            "Epoch 19: val_loss did not improve from 0.60106\n",
            "205/205 [==============================] - 1s 6ms/step - loss: 0.8029 - accuracy: 0.7377 - val_loss: 0.6248 - val_accuracy: 0.8126\n",
            "Epoch 20/100\n",
            "193/205 [===========================>..] - ETA: 0s - loss: 0.7812 - accuracy: 0.7388\n",
            "Epoch 20: val_loss did not improve from 0.60106\n",
            "205/205 [==============================] - 1s 4ms/step - loss: 0.7848 - accuracy: 0.7386 - val_loss: 0.6241 - val_accuracy: 0.8071\n",
            "Epoch 21/100\n",
            "198/205 [===========================>..] - ETA: 0s - loss: 0.8052 - accuracy: 0.7369\n",
            "Epoch 21: val_loss did not improve from 0.60106\n",
            "205/205 [==============================] - 1s 4ms/step - loss: 0.8147 - accuracy: 0.7334 - val_loss: 0.6598 - val_accuracy: 0.7952\n",
            "Epoch 22/100\n",
            "199/205 [============================>.] - ETA: 0s - loss: 0.7924 - accuracy: 0.7360\n",
            "Epoch 22: val_loss did not improve from 0.60106\n",
            "205/205 [==============================] - 1s 4ms/step - loss: 0.7954 - accuracy: 0.7352 - val_loss: 0.6337 - val_accuracy: 0.8058\n",
            "Epoch 23/100\n",
            "203/205 [============================>.] - ETA: 0s - loss: 0.7646 - accuracy: 0.7412\n",
            "Epoch 23: val_loss did not improve from 0.60106\n",
            "205/205 [==============================] - 1s 4ms/step - loss: 0.7640 - accuracy: 0.7416 - val_loss: 0.6162 - val_accuracy: 0.8136\n",
            "Epoch 24/100\n",
            "192/205 [===========================>..] - ETA: 0s - loss: 0.7883 - accuracy: 0.7383\n",
            "Epoch 24: val_loss did not improve from 0.60106\n",
            "205/205 [==============================] - 1s 4ms/step - loss: 0.7893 - accuracy: 0.7372 - val_loss: 0.6222 - val_accuracy: 0.8090\n",
            "Epoch 25/100\n",
            "203/205 [============================>.] - ETA: 0s - loss: 0.7693 - accuracy: 0.7485\n",
            "Epoch 25: val_loss did not improve from 0.60106\n",
            "205/205 [==============================] - 1s 4ms/step - loss: 0.7691 - accuracy: 0.7481 - val_loss: 0.6172 - val_accuracy: 0.8131\n",
            "Epoch 26/100\n",
            "200/205 [============================>.] - ETA: 0s - loss: 0.7824 - accuracy: 0.7470\n",
            "Epoch 26: val_loss did not improve from 0.60106\n",
            "205/205 [==============================] - 1s 4ms/step - loss: 0.7839 - accuracy: 0.7461 - val_loss: 0.6149 - val_accuracy: 0.8099\n",
            "Epoch 27/100\n",
            "205/205 [==============================] - ETA: 0s - loss: 0.7879 - accuracy: 0.7413\n",
            "Epoch 27: val_loss did not improve from 0.60106\n",
            "205/205 [==============================] - 1s 4ms/step - loss: 0.7879 - accuracy: 0.7413 - val_loss: 0.6032 - val_accuracy: 0.8076\n",
            "Epoch 28/100\n",
            "192/205 [===========================>..] - ETA: 0s - loss: 0.8099 - accuracy: 0.7340\n",
            "Epoch 28: val_loss did not improve from 0.60106\n",
            "205/205 [==============================] - 1s 4ms/step - loss: 0.8128 - accuracy: 0.7340 - val_loss: 0.6231 - val_accuracy: 0.8067\n",
            "Epoch 29/100\n",
            "203/205 [============================>.] - ETA: 0s - loss: 0.8062 - accuracy: 0.7295\n",
            "Epoch 29: val_loss did not improve from 0.60106\n",
            "205/205 [==============================] - 1s 4ms/step - loss: 0.8083 - accuracy: 0.7282 - val_loss: 0.6204 - val_accuracy: 0.8076\n",
            "Epoch 30/100\n",
            "191/205 [==========================>...] - ETA: 0s - loss: 0.7860 - accuracy: 0.7389\n",
            "Epoch 30: val_loss did not improve from 0.60106\n",
            "205/205 [==============================] - 1s 4ms/step - loss: 0.7870 - accuracy: 0.7393 - val_loss: 0.6195 - val_accuracy: 0.8026\n",
            "Epoch 31/100\n",
            "188/205 [==========================>...] - ETA: 0s - loss: 0.8040 - accuracy: 0.7360\n",
            "Epoch 31: val_loss did not improve from 0.60106\n",
            "205/205 [==============================] - 1s 4ms/step - loss: 0.8011 - accuracy: 0.7378 - val_loss: 0.6111 - val_accuracy: 0.8053\n",
            "Epoch 32/100\n",
            "198/205 [===========================>..] - ETA: 0s - loss: 0.7907 - accuracy: 0.7378\n",
            "Epoch 32: val_loss did not improve from 0.60106\n",
            "205/205 [==============================] - 1s 4ms/step - loss: 0.7939 - accuracy: 0.7374 - val_loss: 0.6159 - val_accuracy: 0.8003\n",
            "Epoch 33/100\n",
            "196/205 [===========================>..] - ETA: 0s - loss: 0.7809 - accuracy: 0.7294\n",
            "Epoch 33: val_loss did not improve from 0.60106\n",
            "205/205 [==============================] - 1s 4ms/step - loss: 0.7896 - accuracy: 0.7274 - val_loss: 0.6090 - val_accuracy: 0.8094\n",
            "Epoch 34/100\n",
            "202/205 [============================>.] - ETA: 0s - loss: 0.7912 - accuracy: 0.7356\n",
            "Epoch 34: val_loss did not improve from 0.60106\n",
            "205/205 [==============================] - 1s 4ms/step - loss: 0.7936 - accuracy: 0.7351 - val_loss: 0.6090 - val_accuracy: 0.8126\n",
            "Epoch 35/100\n",
            "193/205 [===========================>..] - ETA: 0s - loss: 0.7748 - accuracy: 0.7430\n",
            "Epoch 35: val_loss did not improve from 0.60106\n",
            "205/205 [==============================] - 1s 4ms/step - loss: 0.7749 - accuracy: 0.7436 - val_loss: 0.6094 - val_accuracy: 0.8016\n",
            "Epoch 36/100\n",
            "194/205 [===========================>..] - ETA: 0s - loss: 0.7891 - accuracy: 0.7389\n",
            "Epoch 36: val_loss did not improve from 0.60106\n",
            "205/205 [==============================] - 1s 4ms/step - loss: 0.7963 - accuracy: 0.7372 - val_loss: 0.6285 - val_accuracy: 0.7971\n",
            "Epoch 37/100\n",
            "198/205 [===========================>..] - ETA: 0s - loss: 0.7833 - accuracy: 0.7372\n",
            "Epoch 37: val_loss did not improve from 0.60106\n",
            "205/205 [==============================] - 1s 4ms/step - loss: 0.7840 - accuracy: 0.7380 - val_loss: 0.6261 - val_accuracy: 0.8044\n",
            "Epoch 38/100\n",
            "198/205 [===========================>..] - ETA: 0s - loss: 0.7923 - accuracy: 0.7405\n",
            "Epoch 38: val_loss did not improve from 0.60106\n",
            "205/205 [==============================] - 1s 4ms/step - loss: 0.7919 - accuracy: 0.7403 - val_loss: 0.6093 - val_accuracy: 0.8049\n",
            "Epoch 39/100\n",
            "199/205 [============================>.] - ETA: 0s - loss: 0.7869 - accuracy: 0.7387\n",
            "Epoch 39: val_loss did not improve from 0.60106\n",
            "205/205 [==============================] - 1s 4ms/step - loss: 0.7839 - accuracy: 0.7387 - val_loss: 0.6299 - val_accuracy: 0.8071\n",
            "Epoch 40/100\n",
            "204/205 [============================>.] - ETA: 0s - loss: 0.7833 - accuracy: 0.7381\n",
            "Epoch 40: val_loss did not improve from 0.60106\n",
            "205/205 [==============================] - 1s 4ms/step - loss: 0.7835 - accuracy: 0.7380 - val_loss: 0.6055 - val_accuracy: 0.8067\n",
            "Epoch 41/100\n",
            "190/205 [==========================>...] - ETA: 0s - loss: 0.8134 - accuracy: 0.7332\n",
            "Epoch 41: val_loss did not improve from 0.60106\n",
            "205/205 [==============================] - 1s 4ms/step - loss: 0.8064 - accuracy: 0.7360 - val_loss: 0.6410 - val_accuracy: 0.8026\n",
            "Epoch 42/100\n",
            "195/205 [===========================>..] - ETA: 0s - loss: 0.7794 - accuracy: 0.7436\n",
            "Epoch 42: val_loss did not improve from 0.60106\n",
            "205/205 [==============================] - 1s 4ms/step - loss: 0.7786 - accuracy: 0.7421 - val_loss: 0.6030 - val_accuracy: 0.8081\n",
            "Epoch 43/100\n",
            "201/205 [============================>.] - ETA: 0s - loss: 0.7999 - accuracy: 0.7346\n",
            "Epoch 43: val_loss did not improve from 0.60106\n",
            "205/205 [==============================] - 1s 4ms/step - loss: 0.8018 - accuracy: 0.7346 - val_loss: 0.6233 - val_accuracy: 0.7984\n",
            "Epoch 44/100\n",
            "192/205 [===========================>..] - ETA: 0s - loss: 0.7707 - accuracy: 0.7407\n",
            "Epoch 44: val_loss did not improve from 0.60106\n",
            "205/205 [==============================] - 1s 4ms/step - loss: 0.7754 - accuracy: 0.7395 - val_loss: 0.6215 - val_accuracy: 0.8122\n",
            "Epoch 45/100\n",
            "197/205 [===========================>..] - ETA: 0s - loss: 0.7890 - accuracy: 0.7459\n",
            "Epoch 45: val_loss did not improve from 0.60106\n",
            "205/205 [==============================] - 1s 4ms/step - loss: 0.7901 - accuracy: 0.7448 - val_loss: 0.6275 - val_accuracy: 0.8085\n",
            "Epoch 46/100\n",
            "194/205 [===========================>..] - ETA: 0s - loss: 0.7905 - accuracy: 0.7374\n",
            "Epoch 46: val_loss did not improve from 0.60106\n",
            "205/205 [==============================] - 1s 4ms/step - loss: 0.7863 - accuracy: 0.7381 - val_loss: 0.6266 - val_accuracy: 0.8026\n",
            "Epoch 47/100\n",
            "202/205 [============================>.] - ETA: 0s - loss: 0.8107 - accuracy: 0.7336\n",
            "Epoch 47: val_loss did not improve from 0.60106\n",
            "205/205 [==============================] - 1s 4ms/step - loss: 0.8086 - accuracy: 0.7337 - val_loss: 0.6298 - val_accuracy: 0.8071\n",
            "Epoch 48/100\n",
            "200/205 [============================>.] - ETA: 0s - loss: 0.7757 - accuracy: 0.7409\n",
            "Epoch 48: val_loss did not improve from 0.60106\n",
            "205/205 [==============================] - 1s 4ms/step - loss: 0.7746 - accuracy: 0.7412 - val_loss: 0.6116 - val_accuracy: 0.8090\n",
            "Epoch 49/100\n",
            "204/205 [============================>.] - ETA: 0s - loss: 0.8373 - accuracy: 0.7256\n",
            "Epoch 49: val_loss did not improve from 0.60106\n",
            "205/205 [==============================] - 1s 4ms/step - loss: 0.8370 - accuracy: 0.7256 - val_loss: 0.6478 - val_accuracy: 0.7971\n",
            "Epoch 50/100\n",
            "197/205 [===========================>..] - ETA: 0s - loss: 0.7799 - accuracy: 0.7375\n",
            "Epoch 50: val_loss did not improve from 0.60106\n",
            "205/205 [==============================] - 1s 4ms/step - loss: 0.7797 - accuracy: 0.7375 - val_loss: 0.6128 - val_accuracy: 0.8062\n",
            "Epoch 51/100\n",
            "202/205 [============================>.] - ETA: 0s - loss: 0.7848 - accuracy: 0.7421\n",
            "Epoch 51: val_loss did not improve from 0.60106\n",
            "205/205 [==============================] - 1s 4ms/step - loss: 0.7836 - accuracy: 0.7416 - val_loss: 0.6292 - val_accuracy: 0.8021\n",
            "Epoch 52/100\n",
            "204/205 [============================>.] - ETA: 0s - loss: 0.7918 - accuracy: 0.7364\n",
            "Epoch 52: val_loss did not improve from 0.60106\n",
            "205/205 [==============================] - 1s 4ms/step - loss: 0.7920 - accuracy: 0.7361 - val_loss: 0.6075 - val_accuracy: 0.8113\n",
            "Epoch 53/100\n",
            "200/205 [============================>.] - ETA: 0s - loss: 0.7925 - accuracy: 0.7380\n",
            "Epoch 53: val_loss did not improve from 0.60106\n",
            "205/205 [==============================] - 1s 4ms/step - loss: 0.7888 - accuracy: 0.7398 - val_loss: 0.6111 - val_accuracy: 0.8058\n",
            "Epoch 54/100\n",
            "205/205 [==============================] - ETA: 0s - loss: 0.7894 - accuracy: 0.7361\n",
            "Epoch 54: val_loss did not improve from 0.60106\n",
            "205/205 [==============================] - 1s 4ms/step - loss: 0.7894 - accuracy: 0.7361 - val_loss: 0.6386 - val_accuracy: 0.7989\n",
            "Epoch 55/100\n",
            "195/205 [===========================>..] - ETA: 0s - loss: 0.7694 - accuracy: 0.7478\n",
            "Epoch 55: val_loss did not improve from 0.60106\n",
            "205/205 [==============================] - 1s 4ms/step - loss: 0.7770 - accuracy: 0.7458 - val_loss: 0.6118 - val_accuracy: 0.8131\n",
            "Epoch 56/100\n",
            "199/205 [============================>.] - ETA: 0s - loss: 0.7716 - accuracy: 0.7459\n",
            "Epoch 56: val_loss did not improve from 0.60106\n",
            "205/205 [==============================] - 1s 4ms/step - loss: 0.7748 - accuracy: 0.7450 - val_loss: 0.6064 - val_accuracy: 0.8081\n",
            "Epoch 57/100\n",
            "198/205 [===========================>..] - ETA: 0s - loss: 0.7694 - accuracy: 0.7465\n",
            "Epoch 57: val_loss did not improve from 0.60106\n",
            "205/205 [==============================] - 1s 4ms/step - loss: 0.7660 - accuracy: 0.7476 - val_loss: 0.6215 - val_accuracy: 0.8113\n",
            "Epoch 58/100\n",
            "194/205 [===========================>..] - ETA: 0s - loss: 0.7996 - accuracy: 0.7374\n",
            "Epoch 58: val_loss did not improve from 0.60106\n",
            "205/205 [==============================] - 1s 4ms/step - loss: 0.8030 - accuracy: 0.7371 - val_loss: 0.6210 - val_accuracy: 0.8099\n",
            "Epoch 59/100\n",
            "199/205 [============================>.] - ETA: 0s - loss: 0.7840 - accuracy: 0.7448\n",
            "Epoch 59: val_loss did not improve from 0.60106\n",
            "205/205 [==============================] - 1s 4ms/step - loss: 0.7849 - accuracy: 0.7447 - val_loss: 0.6040 - val_accuracy: 0.8168\n",
            "Epoch 60/100\n",
            "199/205 [============================>.] - ETA: 0s - loss: 0.7769 - accuracy: 0.7439\n",
            "Epoch 60: val_loss did not improve from 0.60106\n",
            "205/205 [==============================] - 1s 4ms/step - loss: 0.7797 - accuracy: 0.7439 - val_loss: 0.6035 - val_accuracy: 0.8113\n",
            "Epoch 61/100\n",
            "203/205 [============================>.] - ETA: 0s - loss: 0.7924 - accuracy: 0.7401\n",
            "Epoch 61: val_loss did not improve from 0.60106\n",
            "205/205 [==============================] - 1s 4ms/step - loss: 0.7918 - accuracy: 0.7404 - val_loss: 0.6173 - val_accuracy: 0.8021\n",
            "Epoch 62/100\n",
            "201/205 [============================>.] - ETA: 0s - loss: 0.7735 - accuracy: 0.7419\n",
            "Epoch 62: val_loss did not improve from 0.60106\n",
            "205/205 [==============================] - 1s 6ms/step - loss: 0.7754 - accuracy: 0.7413 - val_loss: 0.6024 - val_accuracy: 0.8149\n",
            "Epoch 63/100\n",
            "200/205 [============================>.] - ETA: 0s - loss: 0.7991 - accuracy: 0.7373\n",
            "Epoch 63: val_loss did not improve from 0.60106\n",
            "205/205 [==============================] - 1s 4ms/step - loss: 0.7989 - accuracy: 0.7378 - val_loss: 0.6151 - val_accuracy: 0.8136\n",
            "Epoch 64/100\n",
            "200/205 [============================>.] - ETA: 0s - loss: 0.7942 - accuracy: 0.7403\n",
            "Epoch 64: val_loss did not improve from 0.60106\n",
            "205/205 [==============================] - 1s 4ms/step - loss: 0.7937 - accuracy: 0.7409 - val_loss: 0.6255 - val_accuracy: 0.7998\n",
            "Epoch 65/100\n",
            "195/205 [===========================>..] - ETA: 0s - loss: 0.7835 - accuracy: 0.7426\n",
            "Epoch 65: val_loss did not improve from 0.60106\n",
            "205/205 [==============================] - 1s 4ms/step - loss: 0.7801 - accuracy: 0.7441 - val_loss: 0.6289 - val_accuracy: 0.8081\n",
            "Epoch 66/100\n",
            "199/205 [============================>.] - ETA: 0s - loss: 0.7792 - accuracy: 0.7473\n",
            "Epoch 66: val_loss did not improve from 0.60106\n",
            "205/205 [==============================] - 1s 4ms/step - loss: 0.7774 - accuracy: 0.7482 - val_loss: 0.6115 - val_accuracy: 0.8122\n",
            "Epoch 67/100\n",
            "199/205 [============================>.] - ETA: 0s - loss: 0.7689 - accuracy: 0.7445\n",
            "Epoch 67: val_loss did not improve from 0.60106\n",
            "205/205 [==============================] - 1s 4ms/step - loss: 0.7663 - accuracy: 0.7453 - val_loss: 0.6417 - val_accuracy: 0.7975\n",
            "Epoch 68/100\n",
            "190/205 [==========================>...] - ETA: 0s - loss: 0.7776 - accuracy: 0.7507\n",
            "Epoch 68: val_loss did not improve from 0.60106\n",
            "205/205 [==============================] - 1s 4ms/step - loss: 0.7850 - accuracy: 0.7474 - val_loss: 0.6313 - val_accuracy: 0.8131\n",
            "Epoch 69/100\n",
            "202/205 [============================>.] - ETA: 0s - loss: 0.7967 - accuracy: 0.7396\n",
            "Epoch 69: val_loss did not improve from 0.60106\n",
            "205/205 [==============================] - 1s 4ms/step - loss: 0.7970 - accuracy: 0.7398 - val_loss: 0.6178 - val_accuracy: 0.8012\n",
            "Epoch 70/100\n",
            "199/205 [============================>.] - ETA: 0s - loss: 0.7880 - accuracy: 0.7410\n",
            "Epoch 70: val_loss did not improve from 0.60106\n",
            "205/205 [==============================] - 1s 4ms/step - loss: 0.7867 - accuracy: 0.7418 - val_loss: 0.6364 - val_accuracy: 0.8016\n",
            "Epoch 71/100\n",
            "203/205 [============================>.] - ETA: 0s - loss: 0.7853 - accuracy: 0.7388\n",
            "Epoch 71: val_loss did not improve from 0.60106\n",
            "205/205 [==============================] - 1s 4ms/step - loss: 0.7851 - accuracy: 0.7384 - val_loss: 0.6211 - val_accuracy: 0.8076\n",
            "Epoch 72/100\n",
            "190/205 [==========================>...] - ETA: 0s - loss: 0.7734 - accuracy: 0.7493\n",
            "Epoch 72: val_loss did not improve from 0.60106\n",
            "205/205 [==============================] - 1s 4ms/step - loss: 0.7817 - accuracy: 0.7461 - val_loss: 0.6254 - val_accuracy: 0.8058\n",
            "Epoch 73/100\n",
            "194/205 [===========================>..] - ETA: 0s - loss: 0.7698 - accuracy: 0.7442\n",
            "Epoch 73: val_loss did not improve from 0.60106\n",
            "205/205 [==============================] - 1s 4ms/step - loss: 0.7695 - accuracy: 0.7436 - val_loss: 0.6086 - val_accuracy: 0.8099\n",
            "Epoch 74/100\n",
            "202/205 [============================>.] - ETA: 0s - loss: 0.7844 - accuracy: 0.7396\n",
            "Epoch 74: val_loss did not improve from 0.60106\n",
            "205/205 [==============================] - 1s 4ms/step - loss: 0.7856 - accuracy: 0.7389 - val_loss: 0.6179 - val_accuracy: 0.8090\n",
            "Epoch 75/100\n",
            "203/205 [============================>.] - ETA: 0s - loss: 0.7879 - accuracy: 0.7375\n",
            "Epoch 75: val_loss did not improve from 0.60106\n",
            "205/205 [==============================] - 1s 4ms/step - loss: 0.7881 - accuracy: 0.7372 - val_loss: 0.6316 - val_accuracy: 0.8021\n",
            "Epoch 76/100\n",
            "191/205 [==========================>...] - ETA: 0s - loss: 0.7818 - accuracy: 0.7430\n",
            "Epoch 76: val_loss did not improve from 0.60106\n",
            "205/205 [==============================] - 1s 4ms/step - loss: 0.7866 - accuracy: 0.7410 - val_loss: 0.6508 - val_accuracy: 0.7962\n",
            "Epoch 77/100\n",
            "201/205 [============================>.] - ETA: 0s - loss: 0.7502 - accuracy: 0.7511\n",
            "Epoch 77: val_loss did not improve from 0.60106\n",
            "205/205 [==============================] - 1s 4ms/step - loss: 0.7526 - accuracy: 0.7497 - val_loss: 0.6109 - val_accuracy: 0.8039\n",
            "Epoch 78/100\n",
            "196/205 [===========================>..] - ETA: 0s - loss: 0.7714 - accuracy: 0.7473\n",
            "Epoch 78: val_loss did not improve from 0.60106\n",
            "205/205 [==============================] - 1s 4ms/step - loss: 0.7731 - accuracy: 0.7468 - val_loss: 0.6384 - val_accuracy: 0.8007\n",
            "Epoch 79/100\n",
            "197/205 [===========================>..] - ETA: 0s - loss: 0.8192 - accuracy: 0.7286\n",
            "Epoch 79: val_loss did not improve from 0.60106\n",
            "205/205 [==============================] - 1s 4ms/step - loss: 0.8166 - accuracy: 0.7285 - val_loss: 0.6464 - val_accuracy: 0.7984\n",
            "Epoch 80/100\n",
            "204/205 [============================>.] - ETA: 0s - loss: 0.7838 - accuracy: 0.7396\n",
            "Epoch 80: val_loss did not improve from 0.60106\n",
            "205/205 [==============================] - 1s 4ms/step - loss: 0.7850 - accuracy: 0.7390 - val_loss: 0.6243 - val_accuracy: 0.7994\n",
            "Epoch 81/100\n",
            "195/205 [===========================>..] - ETA: 0s - loss: 0.7791 - accuracy: 0.7449\n",
            "Epoch 81: val_loss did not improve from 0.60106\n",
            "205/205 [==============================] - 1s 4ms/step - loss: 0.7843 - accuracy: 0.7439 - val_loss: 0.6199 - val_accuracy: 0.8081\n",
            "Epoch 82/100\n",
            "204/205 [============================>.] - ETA: 0s - loss: 0.7760 - accuracy: 0.7417\n",
            "Epoch 82: val_loss did not improve from 0.60106\n",
            "205/205 [==============================] - 1s 4ms/step - loss: 0.7750 - accuracy: 0.7419 - val_loss: 0.6224 - val_accuracy: 0.8126\n",
            "Epoch 83/100\n",
            "193/205 [===========================>..] - ETA: 0s - loss: 0.7843 - accuracy: 0.7416\n",
            "Epoch 83: val_loss did not improve from 0.60106\n",
            "205/205 [==============================] - 1s 4ms/step - loss: 0.7835 - accuracy: 0.7413 - val_loss: 0.6142 - val_accuracy: 0.8113\n",
            "Epoch 84/100\n",
            "202/205 [============================>.] - ETA: 0s - loss: 0.7977 - accuracy: 0.7423\n",
            "Epoch 84: val_loss did not improve from 0.60106\n",
            "205/205 [==============================] - 1s 4ms/step - loss: 0.7995 - accuracy: 0.7419 - val_loss: 0.6346 - val_accuracy: 0.8053\n",
            "Epoch 85/100\n",
            "201/205 [============================>.] - ETA: 0s - loss: 0.7726 - accuracy: 0.7439\n",
            "Epoch 85: val_loss did not improve from 0.60106\n",
            "205/205 [==============================] - 1s 4ms/step - loss: 0.7736 - accuracy: 0.7432 - val_loss: 0.6281 - val_accuracy: 0.8021\n",
            "Epoch 86/100\n",
            "205/205 [==============================] - ETA: 0s - loss: 0.7640 - accuracy: 0.7436\n",
            "Epoch 86: val_loss did not improve from 0.60106\n",
            "205/205 [==============================] - 1s 4ms/step - loss: 0.7640 - accuracy: 0.7436 - val_loss: 0.6279 - val_accuracy: 0.8035\n",
            "Epoch 87/100\n",
            "201/205 [============================>.] - ETA: 0s - loss: 0.7845 - accuracy: 0.7474\n",
            "Epoch 87: val_loss did not improve from 0.60106\n",
            "205/205 [==============================] - 1s 4ms/step - loss: 0.7845 - accuracy: 0.7465 - val_loss: 0.6433 - val_accuracy: 0.8007\n",
            "Epoch 88/100\n",
            "202/205 [============================>.] - ETA: 0s - loss: 0.8067 - accuracy: 0.7364\n",
            "Epoch 88: val_loss did not improve from 0.60106\n",
            "205/205 [==============================] - 1s 4ms/step - loss: 0.8062 - accuracy: 0.7368 - val_loss: 0.6281 - val_accuracy: 0.8026\n",
            "Epoch 89/100\n",
            "196/205 [===========================>..] - ETA: 0s - loss: 0.7980 - accuracy: 0.7387\n",
            "Epoch 89: val_loss did not improve from 0.60106\n",
            "205/205 [==============================] - 1s 4ms/step - loss: 0.7975 - accuracy: 0.7386 - val_loss: 0.6317 - val_accuracy: 0.7984\n",
            "Epoch 90/100\n",
            "194/205 [===========================>..] - ETA: 0s - loss: 0.7728 - accuracy: 0.7450\n",
            "Epoch 90: val_loss did not improve from 0.60106\n",
            "205/205 [==============================] - 1s 4ms/step - loss: 0.7717 - accuracy: 0.7452 - val_loss: 0.6201 - val_accuracy: 0.8104\n",
            "Epoch 91/100\n",
            "200/205 [============================>.] - ETA: 0s - loss: 0.7590 - accuracy: 0.7398\n",
            "Epoch 91: val_loss improved from 0.60106 to 0.59888, saving model to /content/drive/MyDrive/Sound Classification Project/models/audio_classification.hdf5\n",
            "205/205 [==============================] - 1s 5ms/step - loss: 0.7597 - accuracy: 0.7393 - val_loss: 0.5989 - val_accuracy: 0.8172\n",
            "Epoch 92/100\n",
            "204/205 [============================>.] - ETA: 0s - loss: 0.7704 - accuracy: 0.7491\n",
            "Epoch 92: val_loss did not improve from 0.59888\n",
            "205/205 [==============================] - 1s 4ms/step - loss: 0.7708 - accuracy: 0.7488 - val_loss: 0.6311 - val_accuracy: 0.8044\n",
            "Epoch 93/100\n",
            "191/205 [==========================>...] - ETA: 0s - loss: 0.7937 - accuracy: 0.7354\n",
            "Epoch 93: val_loss did not improve from 0.59888\n",
            "205/205 [==============================] - 1s 4ms/step - loss: 0.7973 - accuracy: 0.7345 - val_loss: 0.6098 - val_accuracy: 0.8058\n",
            "Epoch 94/100\n",
            "191/205 [==========================>...] - ETA: 0s - loss: 0.7527 - accuracy: 0.7461\n",
            "Epoch 94: val_loss did not improve from 0.59888\n",
            "205/205 [==============================] - 1s 4ms/step - loss: 0.7590 - accuracy: 0.7430 - val_loss: 0.6229 - val_accuracy: 0.8021\n",
            "Epoch 95/100\n",
            "203/205 [============================>.] - ETA: 0s - loss: 0.7583 - accuracy: 0.7475\n",
            "Epoch 95: val_loss did not improve from 0.59888\n",
            "205/205 [==============================] - 1s 4ms/step - loss: 0.7619 - accuracy: 0.7474 - val_loss: 0.6123 - val_accuracy: 0.8021\n",
            "Epoch 96/100\n",
            "202/205 [============================>.] - ETA: 0s - loss: 0.7682 - accuracy: 0.7379\n",
            "Epoch 96: val_loss did not improve from 0.59888\n",
            "205/205 [==============================] - 1s 4ms/step - loss: 0.7655 - accuracy: 0.7386 - val_loss: 0.6418 - val_accuracy: 0.7893\n",
            "Epoch 97/100\n",
            "194/205 [===========================>..] - ETA: 0s - loss: 0.7786 - accuracy: 0.7418\n",
            "Epoch 97: val_loss did not improve from 0.59888\n",
            "205/205 [==============================] - 1s 4ms/step - loss: 0.7758 - accuracy: 0.7433 - val_loss: 0.6138 - val_accuracy: 0.8085\n",
            "Epoch 98/100\n",
            "196/205 [===========================>..] - ETA: 0s - loss: 0.7648 - accuracy: 0.7489\n",
            "Epoch 98: val_loss did not improve from 0.59888\n",
            "205/205 [==============================] - 1s 4ms/step - loss: 0.7613 - accuracy: 0.7500 - val_loss: 0.6296 - val_accuracy: 0.8076\n",
            "Epoch 99/100\n",
            "198/205 [===========================>..] - ETA: 0s - loss: 0.7686 - accuracy: 0.7453\n",
            "Epoch 99: val_loss did not improve from 0.59888\n",
            "205/205 [==============================] - 1s 4ms/step - loss: 0.7669 - accuracy: 0.7436 - val_loss: 0.6351 - val_accuracy: 0.7998\n",
            "Epoch 100/100\n",
            "199/205 [============================>.] - ETA: 0s - loss: 0.7648 - accuracy: 0.7456\n",
            "Epoch 100: val_loss did not improve from 0.59888\n",
            "205/205 [==============================] - 1s 4ms/step - loss: 0.7641 - accuracy: 0.7456 - val_loss: 0.6268 - val_accuracy: 0.7998\n"
          ]
        },
        {
          "output_type": "execute_result",
          "data": {
            "text/plain": [
              "<keras.callbacks.History at 0x7f3ba8f6bf10>"
            ]
          },
          "metadata": {},
          "execution_count": 38
        }
      ]
    },
    {
      "cell_type": "code",
      "source": [
        "testing = reconstructed_model.evaluate(X_test,y_test, verbose=0)\n"
      ],
      "metadata": {
        "id": "lyQjhCNTrsB6"
      },
      "execution_count": null,
      "outputs": []
    },
    {
      "cell_type": "code",
      "source": [
        "testing"
      ],
      "metadata": {
        "colab": {
          "base_uri": "https://localhost:8080/"
        },
        "id": "JZU2vA-htx_v",
        "outputId": "7ff57ebd-2ff2-4cc2-816b-3183d6b14a9d"
      },
      "execution_count": null,
      "outputs": [
        {
          "output_type": "execute_result",
          "data": {
            "text/plain": [
              "[0.5988801717758179, 0.8172240257263184]"
            ]
          },
          "metadata": {},
          "execution_count": 29
        }
      ]
    },
    {
      "cell_type": "code",
      "source": [
        "new_file = '/content/drive/MyDrive/Datasets/Mini Urban Sound8K/Class 8/118279-8-0-12.wav'\n",
        "prediction_feature = feature_extractor(new_file)\n",
        "prediction_feature = prediction_feature.reshape(-1,1).T\n",
        "prediction_feature.shape"
      ],
      "metadata": {
        "colab": {
          "base_uri": "https://localhost:8080/"
        },
        "id": "cFO61EO-t4Hl",
        "outputId": "e64f7a18-e44b-4e21-f54d-3ce854bb7847"
      },
      "execution_count": null,
      "outputs": [
        {
          "output_type": "execute_result",
          "data": {
            "text/plain": [
              "(1, 40)"
            ]
          },
          "metadata": {},
          "execution_count": 67
        }
      ]
    },
    {
      "cell_type": "code",
      "source": [
        "new_array = np.array((10),dtype='int')\n",
        "new_array.shape"
      ],
      "metadata": {
        "colab": {
          "base_uri": "https://localhost:8080/",
          "height": 183
        },
        "id": "pWJxN7DzISl-",
        "outputId": "750c58d5-5e98-4311-c6a5-cf296a3bb9a2"
      },
      "execution_count": null,
      "outputs": [
        {
          "output_type": "error",
          "ename": "NameError",
          "evalue": "ignored",
          "traceback": [
            "\u001b[0;31m---------------------------------------------------------------------------\u001b[0m",
            "\u001b[0;31mNameError\u001b[0m                                 Traceback (most recent call last)",
            "\u001b[0;32m<ipython-input-1-0363ec044a53>\u001b[0m in \u001b[0;36m<module>\u001b[0;34m()\u001b[0m\n\u001b[0;32m----> 1\u001b[0;31m \u001b[0mnew_array\u001b[0m \u001b[0;34m=\u001b[0m \u001b[0mnp\u001b[0m\u001b[0;34m.\u001b[0m\u001b[0marray\u001b[0m\u001b[0;34m(\u001b[0m\u001b[0;34m(\u001b[0m\u001b[0;36m10\u001b[0m\u001b[0;34m)\u001b[0m\u001b[0;34m,\u001b[0m\u001b[0mdtype\u001b[0m\u001b[0;34m=\u001b[0m\u001b[0;34m'int'\u001b[0m\u001b[0;34m)\u001b[0m\u001b[0;34m\u001b[0m\u001b[0;34m\u001b[0m\u001b[0m\n\u001b[0m\u001b[1;32m      2\u001b[0m \u001b[0mnew_array\u001b[0m\u001b[0;34m.\u001b[0m\u001b[0mshape\u001b[0m\u001b[0;34m\u001b[0m\u001b[0;34m\u001b[0m\u001b[0m\n",
            "\u001b[0;31mNameError\u001b[0m: name 'np' is not defined"
          ]
        }
      ]
    },
    {
      "cell_type": "code",
      "source": [
        "# predicted_class = np.argmax(reconstructed_model.predict(prediction_feature),out=new_array)\n",
        "predicted_class = np.argmax(reconstructed_model.predict(prediction_feature))\n",
        "# predicted_class = np.array(np.argmax(reconstructed_model.predict(prediction_feature)))\n"
      ],
      "metadata": {
        "colab": {
          "base_uri": "https://localhost:8080/"
        },
        "id": "murdL2KaxPMP",
        "outputId": "040cfe66-2d31-4b68-e831-fd17c1533879"
      },
      "execution_count": null,
      "outputs": [
        {
          "output_type": "execute_result",
          "data": {
            "text/plain": [
              "8"
            ]
          },
          "metadata": {},
          "execution_count": 68
        }
      ]
    },
    {
      "cell_type": "code",
      "source": [
        "# prediction_class = labelencoder.inverse_transform(predicted_class)\n",
        "# prediction_class"
      ],
      "metadata": {
        "colab": {
          "base_uri": "https://localhost:8080/",
          "height": 328
        },
        "id": "ZvCoUuCTz1L7",
        "outputId": "70bfb7c1-33d6-457a-c1fe-9057bd1f678d"
      },
      "execution_count": null,
      "outputs": [
        {
          "output_type": "error",
          "ename": "ValueError",
          "evalue": "ignored",
          "traceback": [
            "\u001b[0;31m---------------------------------------------------------------------------\u001b[0m",
            "\u001b[0;31mValueError\u001b[0m                                Traceback (most recent call last)",
            "\u001b[0;32m<ipython-input-69-7e3ea02fa988>\u001b[0m in \u001b[0;36m<module>\u001b[0;34m()\u001b[0m\n\u001b[0;32m----> 1\u001b[0;31m \u001b[0mprediction_class\u001b[0m \u001b[0;34m=\u001b[0m \u001b[0mlabelencoder\u001b[0m\u001b[0;34m.\u001b[0m\u001b[0minverse_transform\u001b[0m\u001b[0;34m(\u001b[0m\u001b[0mpredicted_class\u001b[0m\u001b[0;34m)\u001b[0m\u001b[0;34m\u001b[0m\u001b[0;34m\u001b[0m\u001b[0m\n\u001b[0m\u001b[1;32m      2\u001b[0m \u001b[0mprediction_class\u001b[0m\u001b[0;34m\u001b[0m\u001b[0;34m\u001b[0m\u001b[0m\n",
            "\u001b[0;32m/usr/local/lib/python3.7/dist-packages/sklearn/preprocessing/_label.py\u001b[0m in \u001b[0;36minverse_transform\u001b[0;34m(self, y)\u001b[0m\n\u001b[1;32m    152\u001b[0m         \"\"\"\n\u001b[1;32m    153\u001b[0m         \u001b[0mcheck_is_fitted\u001b[0m\u001b[0;34m(\u001b[0m\u001b[0mself\u001b[0m\u001b[0;34m)\u001b[0m\u001b[0;34m\u001b[0m\u001b[0;34m\u001b[0m\u001b[0m\n\u001b[0;32m--> 154\u001b[0;31m         \u001b[0my\u001b[0m \u001b[0;34m=\u001b[0m \u001b[0mcolumn_or_1d\u001b[0m\u001b[0;34m(\u001b[0m\u001b[0my\u001b[0m\u001b[0;34m,\u001b[0m \u001b[0mwarn\u001b[0m\u001b[0;34m=\u001b[0m\u001b[0;32mTrue\u001b[0m\u001b[0;34m)\u001b[0m\u001b[0;34m\u001b[0m\u001b[0;34m\u001b[0m\u001b[0m\n\u001b[0m\u001b[1;32m    155\u001b[0m         \u001b[0;31m# inverse transform of empty array is empty array\u001b[0m\u001b[0;34m\u001b[0m\u001b[0;34m\u001b[0m\u001b[0;34m\u001b[0m\u001b[0m\n\u001b[1;32m    156\u001b[0m         \u001b[0;32mif\u001b[0m \u001b[0m_num_samples\u001b[0m\u001b[0;34m(\u001b[0m\u001b[0my\u001b[0m\u001b[0;34m)\u001b[0m \u001b[0;34m==\u001b[0m \u001b[0;36m0\u001b[0m\u001b[0;34m:\u001b[0m\u001b[0;34m\u001b[0m\u001b[0;34m\u001b[0m\u001b[0m\n",
            "\u001b[0;32m/usr/local/lib/python3.7/dist-packages/sklearn/utils/validation.py\u001b[0m in \u001b[0;36mcolumn_or_1d\u001b[0;34m(y, warn)\u001b[0m\n\u001b[1;32m   1037\u001b[0m \u001b[0;34m\u001b[0m\u001b[0m\n\u001b[1;32m   1038\u001b[0m     raise ValueError(\n\u001b[0;32m-> 1039\u001b[0;31m         \u001b[0;34m\"y should be a 1d array, got an array of shape {} instead.\"\u001b[0m\u001b[0;34m.\u001b[0m\u001b[0mformat\u001b[0m\u001b[0;34m(\u001b[0m\u001b[0mshape\u001b[0m\u001b[0;34m)\u001b[0m\u001b[0;34m\u001b[0m\u001b[0;34m\u001b[0m\u001b[0m\n\u001b[0m\u001b[1;32m   1040\u001b[0m     )\n\u001b[1;32m   1041\u001b[0m \u001b[0;34m\u001b[0m\u001b[0m\n",
            "\u001b[0;31mValueError\u001b[0m: y should be a 1d array, got an array of shape () instead."
          ]
        }
      ]
    },
    {
      "cell_type": "code",
      "source": [
        ""
      ],
      "metadata": {
        "id": "O7gRkNFI1MZK"
      },
      "execution_count": null,
      "outputs": []
    }
  ]
}